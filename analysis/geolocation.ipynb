{
 "cells": [
  {
   "cell_type": "code",
   "execution_count": 29,
   "id": "b47a8412",
   "metadata": {},
   "outputs": [],
   "source": [
    "import dask.dataframe as dd\n",
    "from dask.distributed import Client, LocalCluster\n",
    "from ipaddress import IPv4Address, summarize_address_range\n",
    "from netaddr import spanning_cidr, IPNetwork\n",
    "import os"
   ]
  },
  {
   "cell_type": "code",
   "execution_count": 2,
   "id": "4267b9e4",
   "metadata": {},
   "outputs": [
    {
     "data": {
      "text/plain": [
       "'http://127.0.0.1:37937/status'"
      ]
     },
     "execution_count": 2,
     "metadata": {},
     "output_type": "execute_result"
    }
   ],
   "source": [
    "cluster = LocalCluster(n_workers=4, threads_per_worker=1, dashboard_address=':37937')  # Launches a scheduler and workers locally\n",
    "client = Client(cluster) \n",
    "cluster.dashboard_link\n"
   ]
  },
  {
   "cell_type": "code",
   "execution_count": 3,
   "id": "9af6f898",
   "metadata": {},
   "outputs": [
    {
     "name": "stderr",
     "output_type": "stream",
     "text": [
      "/home/msethuraman3/censys-ant/.venv/lib/python3.6/site-packages/dask/dataframe/io/csv.py:475: UserWarning: Warning gzip compression does not support breaking apart files\n",
      "Please ensure that each individual file can fit in memory and\n",
      "use the keyword ``blocksize=None to remove this message``\n",
      "Setting ``blocksize=None``\n",
      "  \"Setting ``blocksize=None``\" % compression\n"
     ]
    }
   ],
   "source": [
    "ddf = dd.read_csv(\"/datasets/ip-geolocation/ipinfo/paid/standard_location/2023-04-22.standard_location.csv.gz\", compression='gzip')"
   ]
  },
  {
   "cell_type": "code",
   "execution_count": 14,
   "id": "955b6c4e",
   "metadata": {},
   "outputs": [
    {
     "data": {
      "text/plain": [
       "start_ip        object\n",
       "end_ip          object\n",
       "join_key        object\n",
       "city            object\n",
       "region          object\n",
       "country         object\n",
       "latitude       float64\n",
       "longitude      float64\n",
       "postal_code     object\n",
       "timezone        object\n",
       "cidr            object\n",
       "dtype: object"
      ]
     },
     "execution_count": 14,
     "metadata": {},
     "output_type": "execute_result"
    }
   ],
   "source": [
    "ddf.dtypes"
   ]
  },
  {
   "cell_type": "code",
   "execution_count": 4,
   "id": "c30edb95",
   "metadata": {},
   "outputs": [],
   "source": [
    "ddf = ddf.repartition(partition_size='10MB')"
   ]
  },
  {
   "cell_type": "code",
   "execution_count": null,
   "id": "0b6f9003",
   "metadata": {},
   "outputs": [],
   "source": [
    "df =  ddf.repartition(partition_size='10MB').compute().head(20)"
   ]
  },
  {
   "cell_type": "code",
   "execution_count": 7,
   "id": "afb7d0c9",
   "metadata": {},
   "outputs": [],
   "source": [
    "def get_spanning_prefix_for_range(start_ip, end_ip):\n",
    "    #sip = IPv4Address(start_ip)\n",
    "    #eip = IPv4Address(end_ip)\n",
    "    return str(spanning_cidr([start_ip, end_ip]))\n",
    "\n",
    "def get_net_summary(start_ip, end_ip):\n",
    "    nets =  list(summarize_address_range(startip, endip))\n",
    "    net_strs = [str(n) for n in nets]\n",
    "    \n",
    "def get_cidr(df):\n",
    "    return df.apply(lambda x: get_spanning_prefix_for_range(x['start_ip'], x['end_ip']), axis=1)\n",
    "\n",
    "def get_nets(df):\n",
    "    return df.apply(lambda x: get_net_summary(x['start_ip'], x['end_ip']))"
   ]
  },
  {
   "cell_type": "code",
   "execution_count": 5,
   "id": "08b36bb3",
   "metadata": {},
   "outputs": [],
   "source": [
    "ddf['cidr'] = ddf.apply(lambda x: get_spanning_prefix_for_range(x['start_ip'], x['end_ip']), axis=1, meta=('start_ip', str))"
   ]
  },
  {
   "cell_type": "code",
   "execution_count": null,
   "id": "7d06bb15",
   "metadata": {},
   "outputs": [],
   "source": [
    "df['cidr'] = df.apply(lambda x: get_spanning_prefix_for_range(x['start_ip'], x['end_ip']), axis=1)"
   ]
  },
  {
   "cell_type": "code",
   "execution_count": 21,
   "id": "3b5e707c",
   "metadata": {},
   "outputs": [],
   "source": [
    "ddf.to_parquet('/data1/manasvini/ipinfo/', overwrite=True, write_index=False, compression={\"name\": \"gzip\", \"values\": \"lz4\"} )"
   ]
  },
  {
   "cell_type": "code",
   "execution_count": 16,
   "id": "8bfe2290",
   "metadata": {},
   "outputs": [],
   "source": [
    "ddf['postal_code'] = ddf['postal_code'].astype(str).fillna('')"
   ]
  },
  {
   "cell_type": "code",
   "execution_count": 22,
   "id": "34dfe515",
   "metadata": {},
   "outputs": [],
   "source": [
    "def get_dirs(dirname):\n",
    "    dirs = [os.path.join(dirname, f) for f in os.listdir(dirname) if os.path.isdir(os.path.join(dirname, f))]\n",
    "    return dirs\n",
    "def get_files(dirname, pfx):\n",
    "    files = [os.path.join(dirname, f) for f in os.listdir(dirname) if os.path.isfile(os.path.join(dirname, f)) and pfx in f]\n",
    "    return files"
   ]
  },
  {
   "cell_type": "code",
   "execution_count": 89,
   "id": "22e40d52",
   "metadata": {},
   "outputs": [],
   "source": [
    "ipinfo_ddf = dd.read_parquet(get_files('/data1/manasvini/ipinfo/', 'parquet'), blocksize='10MB' )"
   ]
  },
  {
   "cell_type": "code",
   "execution_count": 90,
   "id": "cf943045",
   "metadata": {},
   "outputs": [
    {
     "data": {
      "text/plain": [
       "start_ip       75709833\n",
       "end_ip         75709833\n",
       "join_key       75709833\n",
       "city           75709833\n",
       "region         75666778\n",
       "country        75706137\n",
       "latitude       75709833\n",
       "longitude      75709833\n",
       "postal_code    75709833\n",
       "timezone       75709833\n",
       "cidr           75709833\n",
       "dtype: int64"
      ]
     },
     "execution_count": 90,
     "metadata": {},
     "output_type": "execute_result"
    }
   ],
   "source": [
    "ipinfo_ddf.count().compute()\n"
   ]
  },
  {
   "cell_type": "code",
   "execution_count": 91,
   "id": "2a3c59f8",
   "metadata": {},
   "outputs": [],
   "source": [
    "def get_24s_from_pfx(pfx):\n",
    "    ip = IPNetwork(pfx)\n",
    "    subnet_24s = list(ip.subnet(24))\n",
    "    str_24s = []\n",
    "    size = get_pfx_size(pfx)\n",
    "    if size > 24:\n",
    "        return [str(pfx).split('/')[0]]\n",
    "    if size == 24:\n",
    "        str_24s.append(str(pfx).split('/')[0])\n",
    "        return str_24s\n",
    "    for s in subnet_24s:\n",
    "        str_24s.append(str(s).split('/')[0])\n",
    "        #print(str(s))\n",
    "    return str_24s\n",
    "\n",
    "def get_pfx_size(pfx):\n",
    "    return int(pfx.split('/')[1])"
   ]
  },
  {
   "cell_type": "code",
   "execution_count": 92,
   "id": "f38400a9",
   "metadata": {},
   "outputs": [],
   "source": [
    "ipinfo_ddf['pfx_size'] = ipinfo_ddf.apply(lambda x: get_pfx_size(x['cidr']), axis=1, meta=('cidr', str))\n",
    "ipinfo_ddf['/24_strs'] = ipinfo_ddf.apply(lambda x: get_24s_from_pfx(x['cidr']), axis=1, meta=('cidr', str))\n",
    "ipinfo_ddf['pfx_size'] = ipinfo_ddf['pfx_size'].astype(int)"
   ]
  },
  {
   "cell_type": "code",
   "execution_count": 93,
   "id": "32f9213a",
   "metadata": {},
   "outputs": [],
   "source": [
    "cidr_ddf = ipinfo_ddf[['cidr', '/24_strs']]\n",
    "ipinfo_exploded_ddf = cidr_ddf.set_index('cidr').explode('/24_strs').reset_index()"
   ]
  },
  {
   "cell_type": "code",
   "execution_count": 94,
   "id": "272a1c3a",
   "metadata": {},
   "outputs": [
    {
     "data": {
      "text/html": [
       "<div>\n",
       "<style scoped>\n",
       "    .dataframe tbody tr th:only-of-type {\n",
       "        vertical-align: middle;\n",
       "    }\n",
       "\n",
       "    .dataframe tbody tr th {\n",
       "        vertical-align: top;\n",
       "    }\n",
       "\n",
       "    .dataframe thead th {\n",
       "        text-align: right;\n",
       "    }\n",
       "</style>\n",
       "<table border=\"1\" class=\"dataframe\">\n",
       "  <thead>\n",
       "    <tr style=\"text-align: right;\">\n",
       "      <th></th>\n",
       "      <th>cidr</th>\n",
       "      <th>/24_strs</th>\n",
       "    </tr>\n",
       "  </thead>\n",
       "  <tbody>\n",
       "    <tr>\n",
       "      <th>865</th>\n",
       "      <td>106.193.100.0/23</td>\n",
       "      <td>106.193.100.0</td>\n",
       "    </tr>\n",
       "    <tr>\n",
       "      <th>866</th>\n",
       "      <td>106.193.100.0/23</td>\n",
       "      <td>106.193.101.0</td>\n",
       "    </tr>\n",
       "  </tbody>\n",
       "</table>\n",
       "</div>"
      ],
      "text/plain": [
       "                 cidr       /24_strs\n",
       "865  106.193.100.0/23  106.193.100.0\n",
       "866  106.193.100.0/23  106.193.101.0"
      ]
     },
     "execution_count": 94,
     "metadata": {},
     "output_type": "execute_result"
    }
   ],
   "source": [
    "\n",
    "ipinfo_exploded_ddf[ipinfo_exploded_ddf['cidr']=='106.193.100.0/23'].compute()"
   ]
  },
  {
   "cell_type": "code",
   "execution_count": 96,
   "id": "eec0cf82",
   "metadata": {},
   "outputs": [],
   "source": [
    "os.makedirs('/data1/manasvini/ipinfo_expanded', exist_ok=True)\n",
    "ipinfo_exploded_ddf.to_parquet('/data1/manasvini/ipinfo_expanded/', overwrite=True, write_index=False, compression={\"name\": \"gzip\", \"values\": \"lz4\"} )"
   ]
  },
  {
   "cell_type": "code",
   "execution_count": 3,
   "id": "0138340b",
   "metadata": {},
   "outputs": [
    {
     "data": {
      "text/plain": [
       "''"
      ]
     },
     "execution_count": 3,
     "metadata": {},
     "output_type": "execute_result"
    }
   ],
   "source": [
    "a=[1]\n",
    "'.'.join(a[:-1])\n"
   ]
  },
  {
   "cell_type": "code",
   "execution_count": null,
   "id": "c432dd1c",
   "metadata": {},
   "outputs": [],
   "source": []
  }
 ],
 "metadata": {
  "kernelspec": {
   "display_name": "Python 3",
   "language": "python",
   "name": "python3"
  },
  "language_info": {
   "codemirror_mode": {
    "name": "ipython",
    "version": 3
   },
   "file_extension": ".py",
   "mimetype": "text/x-python",
   "name": "python",
   "nbconvert_exporter": "python",
   "pygments_lexer": "ipython3",
   "version": "3.6.9"
  }
 },
 "nbformat": 4,
 "nbformat_minor": 5
}
