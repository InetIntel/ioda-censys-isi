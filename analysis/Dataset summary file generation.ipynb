{
 "cells": [
  {
   "cell_type": "code",
   "execution_count": 1,
   "id": "e4193539",
   "metadata": {},
   "outputs": [],
   "source": [
    "import geopandas as gpd\n",
    "import pandas as pd\n",
    "import os\n",
    "import matplotlib.pyplot as plt\n",
    "plt.rcParams[\"font.family\"] = \"Serif\"\n",
    "import pyipmeta as ipm\n",
    "import requests\n",
    "import wget\n",
    "import shutil\n",
    "import gzip\n",
    "import json\n",
    "\n",
    "from sklearn.linear_model import LinearRegression\n",
    "import numpy as np\n",
    "\n",
    "import geoplot.crs as gcrs\n",
    "import geoplot\n",
    "import os\n",
    "from datetime import datetime\n",
    "import socket \n",
    "import sys\n",
    "import netaddr"
   ]
  },
  {
   "cell_type": "code",
   "execution_count": 2,
   "id": "0a0243d7",
   "metadata": {},
   "outputs": [],
   "source": [
    "\n",
    "\n",
    "import dask.dataframe as dd\n",
    "import matplotlib.pyplot as plt\n",
    "import matplotlib.dates as mdates\n",
    "import pandas as pd\n",
    "import json\n",
    "from dask.distributed import Client, LocalCluster\n"
   ]
  },
  {
   "cell_type": "code",
   "execution_count": 3,
   "id": "78cb5c6c",
   "metadata": {},
   "outputs": [],
   "source": [
    "\n",
    "meta = ipm.IpMeta(providers=[\"pfx2as -f \" + 'pfx_to_as/routeviews-rv2-20220920-1200.txt'])\n",
    "rir_df = pd.read_csv('/data1/manasvini/rir.csv')"
   ]
  },
  {
   "cell_type": "code",
   "execution_count": 4,
   "id": "6cd93629",
   "metadata": {},
   "outputs": [
    {
     "data": {
      "text/plain": [
       "[{'source': 3,\n",
       "  'id': 0,\n",
       "  'country_code': '',\n",
       "  'continent_code': '',\n",
       "  'region': '',\n",
       "  'city': '',\n",
       "  'post_code': '',\n",
       "  'lat_long': (0.0, 0.0),\n",
       "  'metro_code': 0,\n",
       "  'area_code': 0,\n",
       "  'region_code': 0,\n",
       "  'connection_speed': '',\n",
       "  'asns': [13335],\n",
       "  'asn_ip_count': 2425344,\n",
       "  'polygon_ids': [],\n",
       "  'matched_ip_count': 1}]"
      ]
     },
     "execution_count": 4,
     "metadata": {},
     "output_type": "execute_result"
    }
   ],
   "source": [
    "meta.lookup('1.1.1.0')"
   ]
  },
  {
   "cell_type": "code",
   "execution_count": 4,
   "id": "b0d8eff4",
   "metadata": {},
   "outputs": [],
   "source": [
    "def get_files_no_pfx(dirname):\n",
    "    \n",
    "    files = [os.path.join(dirname, f) for f in os.listdir(dirname)]\n",
    "    return files\n",
    "def get_dirs(dirname):\n",
    "    dirs = [os.path.join(dirname, f) for f in os.listdir(dirname) if os.path.isdir(os.path.join(dirname, f))]\n",
    "    return dirs\n",
    "def get_files(dirname, pfx):\n",
    "    files = [os.path.join(dirname, f) for f in os.listdir(dirname) if os.path.isfile(os.path.join(dirname, f)) and pfx in f]\n",
    "    return files"
   ]
  },
  {
   "cell_type": "code",
   "execution_count": 5,
   "id": "3b53e11f",
   "metadata": {},
   "outputs": [],
   "source": [
    "def asn(x):\n",
    "    try:\n",
    "        asninfo = meta.lookup(x)\n",
    "        print(asinfo)\n",
    "        if len(asninfo) == 1:\n",
    "            return asninfo[0]['asns']\n",
    "        elif len(asninfo) == 0:\n",
    "            return []\n",
    "        else:\n",
    "            return [asninof[i]['asns'] for i in range(len(asninfo))]\n",
    "    except:\n",
    "        return []\n",
    "\n",
    "def asn_dask(x):    \n",
    "    \n",
    "    #print(x)\n",
    "    asninfo = meta.lookup(x)\n",
    "    #print(asninfo)\n",
    "    if len(asninfo) == 1:\n",
    "        return ','.join([str(asn) for asn in asninfo[0]['asns']])\n",
    "    elif len(asninfo) == 0:\n",
    "        return ''\n",
    "    else:\n",
    "        return ','.join([asninfo[i]['asns'] for i in range(len(asninfo))])\n",
    "    \n",
    "\n",
    "def populate_asn_dask(df):\n",
    "    return df['/24'].astype(str).apply(lambda x: asn_dask(x))\n",
    "    #df['asn_str'] = df['asn'].apply(lambda x: ','.join(map(str, x)))\n",
    "    #df['num_ases'] = df['asn'].apply(lambda x: len(x))\n",
    "    #return df\n",
    "def populate_asn(df):\n",
    "    df['asn'] = df['/24'].astype(str).apply(lambda x: asn(x))\n",
    "    df['asn_str'] = df['asn'].apply(lambda x: ','.join(map(str, x)))\n",
    "    df['num_ases'] = df['asn'].apply(lambda x: len(x))\n",
    "    return df"
   ]
  },
  {
   "cell_type": "code",
   "execution_count": 6,
   "id": "ebed6467",
   "metadata": {},
   "outputs": [
    {
     "data": {
      "text/plain": [
       "'http://127.0.0.1:37937/status'"
      ]
     },
     "execution_count": 6,
     "metadata": {},
     "output_type": "execute_result"
    }
   ],
   "source": [
    "cluster = LocalCluster(n_workers=4, threads_per_worker=2, dashboard_address=':37937')  # Launches a scheduler and workers locally\n",
    "client = Client(cluster) \n",
    "cluster.dashboard_link"
   ]
  },
  {
   "cell_type": "code",
   "execution_count": 46,
   "id": "0ddec96d",
   "metadata": {},
   "outputs": [],
   "source": [
    "files = get_files('/data1/manasvini/censys/proto/best_survey_new_', 'parquet')\n",
    "censys_ddf = dd.read_parquet(files, blocksize='200MB')"
   ]
  },
  {
   "cell_type": "code",
   "execution_count": 47,
   "id": "899d8d7b",
   "metadata": {},
   "outputs": [
    {
     "data": {
      "text/plain": [
       "Index(['ipint', 'censys_survey_83', 'censys_survey_84', 'censys_survey_85',\n",
       "       'censys_survey_86', 'censys_survey_87', 'censys_survey_88',\n",
       "       'censys_survey_89', 'censys_survey_90', 'censys_survey_91', '/24'],\n",
       "      dtype='object')"
      ]
     },
     "execution_count": 47,
     "metadata": {},
     "output_type": "execute_result"
    }
   ],
   "source": [
    "censys_ddf.columns"
   ]
  },
  {
   "cell_type": "code",
   "execution_count": 34,
   "id": "38923bfd",
   "metadata": {},
   "outputs": [],
   "source": [
    "dirname = '/data1/manasvini/internet_address_history_it101w-20221101/last10withipint/everalive'\n",
    "\n",
    "files = list(set(get_files_no_pfx(dirname)))\n",
    "\n",
    "ant_ddf = dd.read_parquet(get_files(dirname, 'parquet'), blocksize='20MB')\n"
   ]
  },
  {
   "cell_type": "code",
   "execution_count": 24,
   "id": "99573d92",
   "metadata": {},
   "outputs": [],
   "source": [
    "ant_ddf = ant_ddf.rename(columns={'/24':'/24_str'})\n"
   ]
  },
  {
   "cell_type": "code",
   "execution_count": 16,
   "id": "3261d0c2",
   "metadata": {},
   "outputs": [],
   "source": [
    "def read_ddfs(dirpath, colpfxs):\n",
    "    \n",
    "    merged_survey_ddfs = []\n",
    "    for survey in range(83, 92):\n",
    "        print(survey)\n",
    "        \n",
    "        surveystr = str(survey)  \n",
    "        cols = [cpfx + surveystr for cpfx in colpfxs]\n",
    "        merged_ddfs = [] \n",
    "        for p in range(10):\n",
    "\n",
    "            files = get_files(dirpath +surveystr + '/' + 'part_' + str(p), 'parquet')\n",
    "            merged_ddf = dd.read_parquet(files, blocksize='50MB').repartition(partition_size='25MB')\n",
    "            merged_ddfs.append(merged_ddf)\n",
    "\n",
    "        merged_ddf = dd.concat(merged_ddfs)\n",
    "\n",
    "        print(merged_ddf.columns)\n",
    "        print(merged_ddf.count().compute())\n",
    "\n",
    "        if len(merged_survey_ddfs) == 0:\n",
    "            merged_survey_ddfs.append(merged_ddf)\n",
    "        else:\n",
    "            merged_survey_ddfs.append(merged_ddf[cols])\n",
    "\n",
    "        #break\n",
    "    final_merged_ddf = dd.concat(merged_survey_ddfs, axis=1, ignore_unknown_divisions=True)\n",
    "\n",
    "    return final_merged_ddf"
   ]
  },
  {
   "cell_type": "code",
   "execution_count": 49,
   "id": "9a95c18f",
   "metadata": {},
   "outputs": [],
   "source": [
    "\n",
    "def ip2int(x):\n",
    "    try:\n",
    "        return netaddr.IPAddress(x).value\n",
    "    except:\n",
    "        return None\n",
    "\n",
    "def int2ip24(x):\n",
    "    ip =  str(netaddr.IPAddress(int(x)))\n",
    "    return ip2int('.'.join(ip.split('.')[0:3]) + '.0')\n",
    "\n",
    "def int2ip(x):\n",
    "    try:\n",
    "        return str(netaddr.IPAddress(int(x)))\n",
    "    except:\n",
    "        return None\n",
    "\n",
    "def get_24_from_int(df):\n",
    "    return df['ipint'].apply(lambda x: int2ip24(x))"
   ]
  },
  {
   "cell_type": "code",
   "execution_count": 12,
   "id": "b13c96ae",
   "metadata": {},
   "outputs": [
    {
     "name": "stdout",
     "output_type": "stream",
     "text": [
      "83\n",
      "Index(['ipint', 'ant_survey_83', 'combined_survey_83'], dtype='object')\n",
      "ipint                 810872232\n",
      "ant_survey_83         810872232\n",
      "combined_survey_83    810872232\n",
      "dtype: int64\n",
      "84\n",
      "Index(['ipint', 'ant_survey_84', 'combined_survey_84'], dtype='object')\n",
      "ipint                 810872232\n",
      "ant_survey_84         810872232\n",
      "combined_survey_84    810872232\n",
      "dtype: int64\n",
      "85\n",
      "Index(['ipint', 'ant_survey_85', 'combined_survey_85'], dtype='object')\n",
      "ipint                 810872232\n",
      "ant_survey_85         810872232\n",
      "combined_survey_85    810872232\n",
      "dtype: int64\n",
      "86\n",
      "Index(['ipint', 'ant_survey_86', 'combined_survey_86'], dtype='object')\n",
      "ipint                 810872232\n",
      "ant_survey_86         810872232\n",
      "combined_survey_86    810872232\n",
      "dtype: int64\n",
      "87\n",
      "Index(['ipint', 'ant_survey_87', 'combined_survey_87'], dtype='object')\n",
      "ipint                 810872232\n",
      "ant_survey_87         810872232\n",
      "combined_survey_87    810872232\n",
      "dtype: int64\n",
      "88\n",
      "Index(['ipint', 'ant_survey_88', 'combined_survey_88'], dtype='object')\n",
      "ipint                 810872232\n",
      "ant_survey_88         810872232\n",
      "combined_survey_88    810872232\n",
      "dtype: int64\n",
      "89\n",
      "Index(['ipint', 'ant_survey_89', 'combined_survey_89'], dtype='object')\n",
      "ipint                 810872232\n",
      "ant_survey_89         810872232\n",
      "combined_survey_89    810872232\n",
      "dtype: int64\n",
      "90\n",
      "Index(['ipint', 'ant_survey_90', 'combined_survey_90'], dtype='object')\n",
      "ipint                 810872232\n",
      "ant_survey_90         810872232\n",
      "combined_survey_90    810872232\n",
      "dtype: int64\n",
      "91\n",
      "Index(['ipint', 'ant_survey_91', 'combined_survey_91'], dtype='object')\n",
      "ipint                 810872232\n",
      "ant_survey_91         810872232\n",
      "combined_survey_91    810872232\n",
      "dtype: int64\n"
     ]
    }
   ],
   "source": [
    "dirpath = '/data1/manasvini/censys/proto/merged_survey_new_'\n",
    "merged_ddf = read_ddfs(dirpath, ['ant_survey_', 'combined_survey_'])"
   ]
  },
  {
   "cell_type": "code",
   "execution_count": 20,
   "id": "d6783715",
   "metadata": {},
   "outputs": [],
   "source": [
    "merged_ddf['/24'] = merged_ddf.map_partitions(get_24_from_int, meta=('ipint', int))"
   ]
  },
  {
   "cell_type": "code",
   "execution_count": 17,
   "id": "d8140a36",
   "metadata": {},
   "outputs": [
    {
     "name": "stdout",
     "output_type": "stream",
     "text": [
      "83\n",
      "Index(['ipint', 'survey_83'], dtype='object')\n",
      "ipint        440744296\n",
      "survey_83    440744296\n",
      "dtype: int64\n",
      "84\n",
      "Index(['ipint', 'survey_84'], dtype='object')\n",
      "ipint        440744296\n",
      "survey_84    440744296\n",
      "dtype: int64\n",
      "85\n",
      "Index(['ipint', 'survey_85'], dtype='object')\n",
      "ipint        440744296\n",
      "survey_85    440744296\n",
      "dtype: int64\n",
      "86\n",
      "Index(['ipint', 'survey_86'], dtype='object')\n",
      "ipint        440744296\n",
      "survey_86    440744296\n",
      "dtype: int64\n",
      "87\n",
      "Index(['ipint', 'survey_87'], dtype='object')\n",
      "ipint        440744296\n",
      "survey_87    440744296\n",
      "dtype: int64\n",
      "88\n",
      "Index(['ipint', 'survey_88'], dtype='object')\n",
      "ipint        440744296\n",
      "survey_88    440744296\n",
      "dtype: int64\n",
      "89\n",
      "Index(['ipint', 'survey_89'], dtype='object')\n",
      "ipint        440744296\n",
      "survey_89    440744296\n",
      "dtype: int64\n",
      "90\n",
      "Index(['ipint', 'survey_90'], dtype='object')\n",
      "ipint        440744296\n",
      "survey_90    440744296\n",
      "dtype: int64\n",
      "91\n",
      "Index(['ipint', 'survey_91'], dtype='object')\n",
      "ipint        440744296\n",
      "survey_91    440744296\n",
      "dtype: int64\n"
     ]
    }
   ],
   "source": [
    "dirpath = '/data1/manasvini/censys/proto/best_survey_new_'\n",
    "censys_ddf = read_ddfs(dirpath, ['survey_'])"
   ]
  },
  {
   "cell_type": "code",
   "execution_count": 38,
   "id": "6922152a",
   "metadata": {},
   "outputs": [],
   "source": [
    "censys_ddf['/24'] = censys_ddf.map_partitions(get_24_from_int, meta=('ipint', int))"
   ]
  },
  {
   "cell_type": "code",
   "execution_count": null,
   "id": "5ab42035",
   "metadata": {},
   "outputs": [],
   "source": [
    "merged_survey_ddfs = []\n",
    "for surveynum in range(83, 92):\n",
    "    surveystr = str(surveynum)   \n",
    "    print(surveynum)\n",
    "    merged_ddfs = []\n",
    "    for p in range(10):\n",
    "\n",
    "        files = get_files('/data1/manasvini/censys/proto/merged_survey_new'+str(surveynum) + '/' + 'part_' + p, 'parquet')\n",
    "        merged_ddf = dd.read_parquet(files, blocksize='50MB').repartition(partition_size='25MB')\n",
    "\n",
    "        merged_ddfs.append(merged_ddf)\n",
    "    merged_ddf = dd.concat(merged_ddfs)\n",
    "    merged_ddf['/24'] = merged_ddf['ipint'].astype(int).apply(lambda x: int2ip24(x), ,meta=('ipint', int))\n",
    "    print(merged_ddf.columns)\n",
    "    print(merged_ddf.count().compute())\n",
    "    #if len(merged_survey_ddfs) == 0:\n",
    "    merged_survey_ddfs.append(merged_ddf)\n",
    "    "
   ]
  },
  {
   "cell_type": "code",
   "execution_count": 95,
   "id": "0aec15c3",
   "metadata": {},
   "outputs": [],
   "source": [
    "survey_cts = []\n",
    "ant_24s = {}\n",
    "censys_24s = {}\n",
    "combined_24s= {}"
   ]
  },
  {
   "cell_type": "code",
   "execution_count": 37,
   "id": "c8bd0202",
   "metadata": {},
   "outputs": [
    {
     "data": {
      "text/plain": [
       "Index(['ipint', 'survey_83', 'survey_84', 'survey_85', 'survey_86',\n",
       "       'survey_87', 'survey_88', 'survey_89', 'survey_90', 'survey_91'],\n",
       "      dtype='object')"
      ]
     },
     "execution_count": 37,
     "metadata": {},
     "output_type": "execute_result"
    }
   ],
   "source": [
    "censys_ddf['.columns']"
   ]
  },
  {
   "cell_type": "code",
   "execution_count": 73,
   "id": "9cce722e",
   "metadata": {},
   "outputs": [
    {
     "name": "stdout",
     "output_type": "stream",
     "text": [
      "83\n",
      "84\n",
      "85\n",
      "86\n",
      "87\n",
      "88\n",
      "89\n",
      "90\n",
      "91\n"
     ]
    }
   ],
   "source": [
    "for i in range(len(merged_survey_ddfs)):\n",
    "    s = str(i + 83)\n",
    "    print(s)\n",
    "    survey = s\n",
    "    \n",
    "    ant_24 = ant_24s[survey]\n",
    "    censys_24 = censys_24s[survey] \n",
    "    merged_24 = ant_24.merge(censys_24, on='/24', how='outer')\n",
    "    combined_24s[survey] = merged_24\n",
    "    "
   ]
  },
  {
   "cell_type": "code",
   "execution_count": 27,
   "id": "a67c4f6c",
   "metadata": {},
   "outputs": [],
   "source": [
    "ant_ddf['/24'] = ant_ddf.map_partitions(get_24_from_int, meta=('ipint', int))"
   ]
  },
  {
   "cell_type": "code",
   "execution_count": null,
   "id": "51299000",
   "metadata": {},
   "outputs": [],
   "source": [
    "for s in range(83, 92):\n",
    "    survey = str(s)\n",
    "#     if s == 84:\n",
    "#         continue\n",
    "    print(s)\n",
    "    ant_ddf['survey_'+survey] = ant_ddf['survey_'+survey].astype(int)\n",
    "\n",
    "ant_cols = ['survey_' + str(i) for i in range(83, 92)]\n",
    "\n",
    "merged_cols = ['combined_survey_' + str(i) for i in range(83, 92)]\n",
    "ant_24 = ant_ddf.groupby('/24')[ant_cols].sum().reset_index().compute()"
   ]
  },
  {
   "cell_type": "code",
   "execution_count": null,
   "id": "bde31ed7",
   "metadata": {},
   "outputs": [],
   "source": [
    "censys_cols = ['survey_' + str(i) for i in range(83, 92)]\n",
    "#ant_24s[survey] = ant_24[ant_24['survey_'+survey]> 0]\n",
    "censys_24 = censys_ddf.groupby('/24')[censys_cols].sum().reset_index().compute()\n",
    "#censys_24s[survey] = censys_24[censys_24['censys_survey_'+survey]>0]\n",
    "combined_24 = merged_ddf.groupby('/24')[merged_cols].sum().reset_index().compute()"
   ]
  },
  {
   "cell_type": "code",
   "execution_count": 96,
   "id": "1e5cac37",
   "metadata": {},
   "outputs": [],
   "source": [
    "for s in range(83, 92):\n",
    "    survey = str(s)\n",
    "    ant_24s[survey] = ant_24[ant_24['survey_'+survey]> 0][['survey_'+survey, '/24']]\n",
    "    censys_24s[survey] = censys_24[censys_24['survey_'+survey]>0][['survey_'+survey, '/24']]\n",
    "    combined_24s[survey] = combined_24[combined_24['combined_survey_'+survey]>0][['combined_survey_'+survey, '/24']]\n",
    "#print('ant=', len(ant_24), 'censys=', len(censys_24), 'combined=', len(combined_24))"
   ]
  },
  {
   "cell_type": "code",
   "execution_count": 58,
   "id": "c027c24c",
   "metadata": {},
   "outputs": [],
   "source": [
    "ant_24['/24_int'] = ant_24['/24'].apply(lambda x: ip2int(x))"
   ]
  },
  {
   "cell_type": "code",
   "execution_count": 59,
   "id": "4bd5bf61",
   "metadata": {},
   "outputs": [],
   "source": [
    "ant_24 = ant_24.rename(columns={'/24':'/24_str', '/24_int':'/24'})"
   ]
  },
  {
   "cell_type": "code",
   "execution_count": 77,
   "id": "228b35eb",
   "metadata": {},
   "outputs": [],
   "source": [
    "all_24s = pd.concat([ant_24['/24'], censys_24['/24'], combined_24['/24']]).drop_duplicates().to_frame()"
   ]
  },
  {
   "cell_type": "code",
   "execution_count": 78,
   "id": "40dbe9da",
   "metadata": {},
   "outputs": [],
   "source": [
    "all_24s['/24_str'] = all_24s['/24'].apply(lambda x: int2ip(x))"
   ]
  },
  {
   "cell_type": "code",
   "execution_count": 79,
   "id": "3fa691cc",
   "metadata": {},
   "outputs": [],
   "source": [
    "all_24s['asn'] = all_24s['/24_str'].apply(lambda x: asn_dask(x))"
   ]
  },
  {
   "cell_type": "markdown",
   "id": "b1eb8d2f",
   "metadata": {},
   "source": [
    "### Write out the summary dfs to disk so that we can use those instead  \n"
   ]
  },
  {
   "cell_type": "code",
   "execution_count": 85,
   "id": "efc4ec75",
   "metadata": {},
   "outputs": [],
   "source": [
    "asns_df = all_24s"
   ]
  },
  {
   "cell_type": "code",
   "execution_count": 87,
   "id": "b1a3e1fa",
   "metadata": {},
   "outputs": [],
   "source": [
    "asns_df['num_asns'] = asns_df['asn'].apply(lambda x: len(x.split(',')))\n",
    "    "
   ]
  },
  {
   "cell_type": "code",
   "execution_count": 97,
   "id": "6899e4cc",
   "metadata": {},
   "outputs": [
    {
     "data": {
      "text/html": [
       "<div>\n",
       "<style scoped>\n",
       "    .dataframe tbody tr th:only-of-type {\n",
       "        vertical-align: middle;\n",
       "    }\n",
       "\n",
       "    .dataframe tbody tr th {\n",
       "        vertical-align: top;\n",
       "    }\n",
       "\n",
       "    .dataframe thead th {\n",
       "        text-align: right;\n",
       "    }\n",
       "</style>\n",
       "<table border=\"1\" class=\"dataframe\">\n",
       "  <thead>\n",
       "    <tr style=\"text-align: right;\">\n",
       "      <th></th>\n",
       "      <th>/24</th>\n",
       "      <th>/24_str</th>\n",
       "      <th>asn</th>\n",
       "      <th>num_asns</th>\n",
       "    </tr>\n",
       "  </thead>\n",
       "  <tbody>\n",
       "    <tr>\n",
       "      <th>0</th>\n",
       "      <td>16777216</td>\n",
       "      <td>1.0.0.0</td>\n",
       "      <td>13335</td>\n",
       "      <td>1</td>\n",
       "    </tr>\n",
       "    <tr>\n",
       "      <th>1</th>\n",
       "      <td>16802816</td>\n",
       "      <td>1.0.100.0</td>\n",
       "      <td>18144</td>\n",
       "      <td>1</td>\n",
       "    </tr>\n",
       "    <tr>\n",
       "      <th>2</th>\n",
       "      <td>16803072</td>\n",
       "      <td>1.0.101.0</td>\n",
       "      <td>18144</td>\n",
       "      <td>1</td>\n",
       "    </tr>\n",
       "    <tr>\n",
       "      <th>3</th>\n",
       "      <td>16803328</td>\n",
       "      <td>1.0.102.0</td>\n",
       "      <td>18144</td>\n",
       "      <td>1</td>\n",
       "    </tr>\n",
       "    <tr>\n",
       "      <th>4</th>\n",
       "      <td>16803584</td>\n",
       "      <td>1.0.103.0</td>\n",
       "      <td>18144</td>\n",
       "      <td>1</td>\n",
       "    </tr>\n",
       "    <tr>\n",
       "      <th>...</th>\n",
       "      <td>...</td>\n",
       "      <td>...</td>\n",
       "      <td>...</td>\n",
       "      <td>...</td>\n",
       "    </tr>\n",
       "    <tr>\n",
       "      <th>5726542</th>\n",
       "      <td>3755506944</td>\n",
       "      <td>223.216.125.0</td>\n",
       "      <td>4713</td>\n",
       "      <td>1</td>\n",
       "    </tr>\n",
       "    <tr>\n",
       "      <th>5726543</th>\n",
       "      <td>3757062144</td>\n",
       "      <td>223.240.56.0</td>\n",
       "      <td>4134</td>\n",
       "      <td>1</td>\n",
       "    </tr>\n",
       "    <tr>\n",
       "      <th>5726546</th>\n",
       "      <td>3757230080</td>\n",
       "      <td>223.242.200.0</td>\n",
       "      <td>4134</td>\n",
       "      <td>1</td>\n",
       "    </tr>\n",
       "    <tr>\n",
       "      <th>5726547</th>\n",
       "      <td>3757267712</td>\n",
       "      <td>223.243.91.0</td>\n",
       "      <td>4134</td>\n",
       "      <td>1</td>\n",
       "    </tr>\n",
       "    <tr>\n",
       "      <th>4717327</th>\n",
       "      <td>0</td>\n",
       "      <td>0.0.0.0</td>\n",
       "      <td></td>\n",
       "      <td>1</td>\n",
       "    </tr>\n",
       "  </tbody>\n",
       "</table>\n",
       "<p>6206520 rows × 4 columns</p>\n",
       "</div>"
      ],
      "text/plain": [
       "                /24        /24_str    asn  num_asns\n",
       "0          16777216        1.0.0.0  13335         1\n",
       "1          16802816      1.0.100.0  18144         1\n",
       "2          16803072      1.0.101.0  18144         1\n",
       "3          16803328      1.0.102.0  18144         1\n",
       "4          16803584      1.0.103.0  18144         1\n",
       "...             ...            ...    ...       ...\n",
       "5726542  3755506944  223.216.125.0   4713         1\n",
       "5726543  3757062144   223.240.56.0   4134         1\n",
       "5726546  3757230080  223.242.200.0   4134         1\n",
       "5726547  3757267712   223.243.91.0   4134         1\n",
       "4717327           0        0.0.0.0                1\n",
       "\n",
       "[6206520 rows x 4 columns]"
      ]
     },
     "execution_count": 97,
     "metadata": {},
     "output_type": "execute_result"
    }
   ],
   "source": [
    "asns_df"
   ]
  },
  {
   "cell_type": "code",
   "execution_count": 98,
   "id": "ea8a57d4",
   "metadata": {},
   "outputs": [
    {
     "name": "stdout",
     "output_type": "stream",
     "text": [
      "83\n",
      "         survey_83         /24        /24_str    asn  num_asns\n",
      "0              255    16777216        1.0.0.0  13335         1\n",
      "1               12    16802816      1.0.100.0  18144         1\n",
      "2               13    16803072      1.0.101.0  18144         1\n",
      "3                8    16803328      1.0.102.0  18144         1\n",
      "4                6    16803584      1.0.103.0  18144         1\n",
      "...            ...         ...            ...    ...       ...\n",
      "5065896          4  3758095360  223.255.252.0  58519         1\n",
      "5065897          5  3758095616  223.255.253.0  58519         1\n",
      "5065898          5  3758095872  223.255.254.0  55415         1\n",
      "5065899         23  3758038016   223.255.28.0                1\n",
      "5065900          1  3758031616    223.255.3.0                1\n",
      "\n",
      "[5065901 rows x 5 columns]\n",
      "84\n",
      "         survey_84         /24        /24_str    asn  num_asns\n",
      "0              254    16777216        1.0.0.0  13335         1\n",
      "1               12    16802816      1.0.100.0  18144         1\n",
      "2               16    16803072      1.0.101.0  18144         1\n",
      "3               12    16803328      1.0.102.0  18144         1\n",
      "4                8    16803584      1.0.103.0  18144         1\n",
      "...            ...         ...            ...    ...       ...\n",
      "5085233          6  3758095872  223.255.254.0  55415         1\n",
      "5085234         31  3758038016   223.255.28.0                1\n",
      "5085235          1  3758031616    223.255.3.0                1\n",
      "5085236          1  3758041344   223.255.41.0                1\n",
      "5085237          1  3758042368   223.255.45.0                1\n",
      "\n",
      "[5085238 rows x 5 columns]\n",
      "85\n",
      "         survey_85         /24        /24_str    asn  num_asns\n",
      "0              255    16777216        1.0.0.0  13335         1\n",
      "1               15    16802816      1.0.100.0  18144         1\n",
      "2               14    16803072      1.0.101.0  18144         1\n",
      "3               15    16803328      1.0.102.0  18144         1\n",
      "4                5    16803584      1.0.103.0  18144         1\n",
      "...            ...         ...            ...    ...       ...\n",
      "5091174          5  3758095872  223.255.254.0  55415         1\n",
      "5091175         23  3758038016   223.255.28.0                1\n",
      "5091176          2  3758031616    223.255.3.0                1\n",
      "5091177          1  3758041344   223.255.41.0                1\n",
      "5091178          1  3758042368   223.255.45.0                1\n",
      "\n",
      "[5091179 rows x 5 columns]\n",
      "86\n",
      "         survey_86         /24        /24_str    asn  num_asns\n",
      "0              255    16777216        1.0.0.0  13335         1\n",
      "1               13    16802816      1.0.100.0  18144         1\n",
      "2               14    16803072      1.0.101.0  18144         1\n",
      "3               17    16803328      1.0.102.0  18144         1\n",
      "4                8    16803584      1.0.103.0  18144         1\n",
      "...            ...         ...            ...    ...       ...\n",
      "5122053          6  3758095616  223.255.253.0  58519         1\n",
      "5122054          6  3758095872  223.255.254.0  55415         1\n",
      "5122055         25  3758038016   223.255.28.0                1\n",
      "5122056          2  3758031616    223.255.3.0                1\n",
      "5122057          1  3758041344   223.255.41.0                1\n",
      "\n",
      "[5122058 rows x 5 columns]\n",
      "87\n",
      "         survey_87         /24        /24_str    asn  num_asns\n",
      "0              253    16777216        1.0.0.0  13335         1\n",
      "1               10    16802816      1.0.100.0  18144         1\n",
      "2               18    16803072      1.0.101.0  18144         1\n",
      "3               23    16803328      1.0.102.0  18144         1\n",
      "4               16    16803584      1.0.103.0  18144         1\n",
      "...            ...         ...            ...    ...       ...\n",
      "5101998          6  3758095616  223.255.253.0  58519         1\n",
      "5101999          5  3758095872  223.255.254.0  55415         1\n",
      "5102000         22  3758038016   223.255.28.0                1\n",
      "5102001          2  3758031616    223.255.3.0                1\n",
      "5102002          1  3758041344   223.255.41.0                1\n",
      "\n",
      "[5102003 rows x 5 columns]\n",
      "88\n",
      "         survey_88         /24        /24_str    asn  num_asns\n",
      "0              255    16777216        1.0.0.0  13335         1\n",
      "1               16    16802816      1.0.100.0  18144         1\n",
      "2               18    16803072      1.0.101.0  18144         1\n",
      "3               25    16803328      1.0.102.0  18144         1\n",
      "4               13    16803584      1.0.103.0  18144         1\n",
      "...            ...         ...            ...    ...       ...\n",
      "5119009          4  3758095104  223.255.251.0  63199         1\n",
      "5119010          5  3758095360  223.255.252.0  58519         1\n",
      "5119011          5  3758095616  223.255.253.0  58519         1\n",
      "5119012         11  3758095872  223.255.254.0  55415         1\n",
      "5119013         22  3758038016   223.255.28.0                1\n",
      "\n",
      "[5119014 rows x 5 columns]\n",
      "89\n",
      "         survey_89         /24        /24_str    asn  num_asns\n",
      "0              255    16777216        1.0.0.0  13335         1\n",
      "1                7    16802816      1.0.100.0  18144         1\n",
      "2               19    16803072      1.0.101.0  18144         1\n",
      "3               21    16803328      1.0.102.0  18144         1\n",
      "4               13    16803584      1.0.103.0  18144         1\n",
      "...            ...         ...            ...    ...       ...\n",
      "5116213          4  3758095104  223.255.251.0  63199         1\n",
      "5116214          5  3758095360  223.255.252.0  58519         1\n",
      "5116215          1  3758095616  223.255.253.0  58519         1\n",
      "5116216          6  3758095872  223.255.254.0  55415         1\n",
      "5116217         24  3758038016   223.255.28.0                1\n",
      "\n",
      "[5116218 rows x 5 columns]\n",
      "90\n",
      "         survey_90         /24        /24_str    asn  num_asns\n",
      "0              255    16777216        1.0.0.0  13335         1\n",
      "1               10    16802816      1.0.100.0  18144         1\n",
      "2               21    16803072      1.0.101.0  18144         1\n",
      "3               16    16803328      1.0.102.0  18144         1\n",
      "4               14    16803584      1.0.103.0  18144         1\n",
      "...            ...         ...            ...    ...       ...\n",
      "5124026         32  3758094848  223.255.250.0  63199         1\n",
      "5124027          2  3758095104  223.255.251.0  63199         1\n",
      "5124028          5  3758095360  223.255.252.0  58519         1\n",
      "5124029          5  3758095616  223.255.253.0  58519         1\n",
      "5124030         15  3758095872  223.255.254.0  55415         1\n",
      "\n",
      "[5124031 rows x 5 columns]\n",
      "91\n",
      "         survey_91         /24        /24_str    asn  num_asns\n",
      "0              255    16777216        1.0.0.0  13335         1\n",
      "1                6    16802816      1.0.100.0  18144         1\n",
      "2               18    16803072      1.0.101.0  18144         1\n",
      "3               20    16803328      1.0.102.0  18144         1\n",
      "4               16    16803584      1.0.103.0  18144         1\n",
      "...            ...         ...            ...    ...       ...\n",
      "5124791         11  3758094592  223.255.249.0  63199         1\n",
      "5124792          3  3758094848  223.255.250.0  63199         1\n",
      "5124793          5  3758095360  223.255.252.0  58519         1\n",
      "5124794          5  3758095616  223.255.253.0  58519         1\n",
      "5124795         11  3758095872  223.255.254.0  55415         1\n",
      "\n",
      "[5124796 rows x 5 columns]\n"
     ]
    }
   ],
   "source": [
    "asns_summary_df=[]\n",
    "\n",
    "for s in range(83, 92):\n",
    "    survey = str(s)\n",
    "#     if s == 84:\n",
    "#         continue\n",
    "    print(s)\n",
    "    censys_asn_df = censys_24s[str(s)]\n",
    "    censys_asn_df = censys_asn_df.merge(asns_df, how='inner', on='/24') \n",
    "    #censys_24_ddf['num_asns'] = censys_24_ddf['asn'].apply(lambda x: len(x.split(',')), meta=('asn', 'str'))\n",
    "    \n",
    "    ant_asn_df = ant_24s[str(s)]\n",
    "    ant_asn_df = ant_asn_df.merge(asns_df, how='inner', on='/24')\n",
    "    print(ant_asn_df)\n",
    "    antcensys_asn_df = combined_24s[str(s)]\n",
    "    antcensys_asn_df = antcensys_asn_df.merge(asns_df, how='inner', on='/24')\n",
    "  \n",
    "    ant_ases = set(list(ant_asn_df[(ant_asn_df['num_asns']==1)&(ant_asn_df['asn']!='')]['asn']))\n",
    "    censys_ases = set(list(censys_asn_df[(censys_asn_df['num_asns']==1)&(censys_asn_df['asn']!='')]['asn']))\n",
    "    antcensys_ases = set(list(antcensys_asn_df[(antcensys_asn_df['num_asns']==1)&(antcensys_asn_df['asn']!='')]['asn']))\n",
    "    asns_summary_df.append({'ant':ant_asn_df[ant_asn_df['num_asns']==1]['asn'].nunique(), \\\n",
    "                   'censys':censys_asn_df[censys_asn_df['num_asns']==1]['asn'].nunique(),\\\n",
    "                   'survey':str(s),\\\n",
    "                   'ant_censys':antcensys_asn_df[antcensys_asn_df['num_asns']==1]['asn'].nunique()})\n",
    "    ant_24s[str(s)] = ant_asn_df\n",
    "    censys_24s[str(s)] = censys_asn_df\n"
   ]
  },
  {
   "cell_type": "code",
   "execution_count": 109,
   "id": "3822d79d",
   "metadata": {},
   "outputs": [],
   "source": [
    "asn_summary_df = pd.DataFrame(asns_summary_df)\n",
    "asn_summary_df['survey'] = asn_summary_df['survey'].astype(int) - 82"
   ]
  },
  {
   "cell_type": "code",
   "execution_count": 105,
   "id": "f89cc8c2",
   "metadata": {},
   "outputs": [],
   "source": [
    "host_data = []\n",
    "block_data = []\n",
    "\n",
    "for s in range(83, 92):\n",
    "    survey = str(s)\n",
    "    ant_blks = ant_24s[survey]['/24'].count()\n",
    "    censys_blks = censys_24s[survey]['/24'].count()\n",
    "    combined_blks = combined_24s[survey]['/24'].count()\n",
    "    ant_hosts = ant_24s[survey]['survey_'+survey].sum()\n",
    "    censys_hosts = censys_24s[survey]['survey_'+survey].sum()\n",
    "    combined_hosts = combined_24s[survey]['combined_survey_'+survey].sum()\n",
    "    \n",
    "    host_data.append({'survey':s -82, 'ant_hosts':ant_hosts, 'censys_hosts':censys_hosts, 'antcensys_hosts':combined_hosts})\n",
    "    block_data.append({'survey':s -82, 'ant_blks':ant_blks, 'censys_blks':censys_blks, 'antcensys_blks':combined_blks})\n",
    "    "
   ]
  },
  {
   "cell_type": "code",
   "execution_count": 155,
   "id": "a16b0a5a",
   "metadata": {},
   "outputs": [],
   "source": [
    "\n",
    "overlap_asn = []\n",
    "for s in range(83, 92):\n",
    "    survey = str(s)\n",
    "    ant_asns = ant_24s[survey]['asn'].tolist()\n",
    "    censys_asns = censys_24s[survey]['asn'].tolist()\n",
    "    overlap_asn.append({'survey':survey, 'overlap':len(set(ant_asns).intersection(set(censys_asns))), 'total':len(set(ant_asns).union(set(censys_asns)))})\n",
    "    "
   ]
  },
  {
   "cell_type": "code",
   "execution_count": 157,
   "id": "e22d6ca7",
   "metadata": {},
   "outputs": [
    {
     "data": {
      "text/plain": [
       "0.9136126442597943"
      ]
     },
     "execution_count": 157,
     "metadata": {},
     "output_type": "execute_result"
    }
   ],
   "source": [
    "overlap_df = pd.DataFrame(overlap_asn)\n",
    "overlap_df['frac'] = overlap_df['overlap']/overlap_df['total']\n",
    "overlap_df['frac'].mean()"
   ]
  },
  {
   "cell_type": "code",
   "execution_count": 122,
   "id": "89ded2a8",
   "metadata": {},
   "outputs": [],
   "source": [
    "COLORS = ['#0f4d5c','#846aa5', '#ff837a']"
   ]
  },
  {
   "cell_type": "code",
   "execution_count": 106,
   "id": "ec4a10de",
   "metadata": {},
   "outputs": [],
   "source": [
    "blk_summary_df = pd.DataFrame(block_data)\n",
    "host_summary_data = pd.DataFrame(host_data)"
   ]
  },
  {
   "cell_type": "code",
   "execution_count": null,
   "id": "d829b702",
   "metadata": {},
   "outputs": [],
   "source": [
    "blk_summary_df['ant_m'] = blk_summary_df['ant_blks']/1e6\n",
    "blk_summary_df['censys_m'] = blk_summary_df['censys_blks']/1e6\n",
    "blk_summary_df['ant_censys_m'] = blk_summary_df['antcensys_blks']/1e6"
   ]
  },
  {
   "cell_type": "code",
   "execution_count": 148,
   "id": "e446cdf8",
   "metadata": {},
   "outputs": [
    {
     "data": {
      "text/plain": [
       "293909.3333333333"
      ]
     },
     "execution_count": 148,
     "metadata": {},
     "output_type": "execute_result"
    }
   ],
   "source": [
    "(blk_summary_df['antcensys_blks'] - blk_summary_df['ant_blks']).mean()"
   ]
  },
  {
   "cell_type": "code",
   "execution_count": 160,
   "id": "208c239a",
   "metadata": {},
   "outputs": [
    {
     "data": {
      "text/html": [
       "<div>\n",
       "<style scoped>\n",
       "    .dataframe tbody tr th:only-of-type {\n",
       "        vertical-align: middle;\n",
       "    }\n",
       "\n",
       "    .dataframe tbody tr th {\n",
       "        vertical-align: top;\n",
       "    }\n",
       "\n",
       "    .dataframe thead th {\n",
       "        text-align: right;\n",
       "    }\n",
       "</style>\n",
       "<table border=\"1\" class=\"dataframe\">\n",
       "  <thead>\n",
       "    <tr style=\"text-align: right;\">\n",
       "      <th></th>\n",
       "      <th>survey</th>\n",
       "      <th>ant_blks</th>\n",
       "      <th>censys_blks</th>\n",
       "      <th>antcensys_blks</th>\n",
       "      <th>ant_m</th>\n",
       "      <th>censys_m</th>\n",
       "      <th>ant_censys_m</th>\n",
       "      <th>diff</th>\n",
       "    </tr>\n",
       "  </thead>\n",
       "  <tbody>\n",
       "    <tr>\n",
       "      <th>0</th>\n",
       "      <td>1</td>\n",
       "      <td>5065901</td>\n",
       "      <td>4546581</td>\n",
       "      <td>5405358</td>\n",
       "      <td>5.065901</td>\n",
       "      <td>4.546581</td>\n",
       "      <td>5.405358</td>\n",
       "      <td>339457</td>\n",
       "    </tr>\n",
       "    <tr>\n",
       "      <th>1</th>\n",
       "      <td>2</td>\n",
       "      <td>5085238</td>\n",
       "      <td>4510084</td>\n",
       "      <td>5402832</td>\n",
       "      <td>5.085238</td>\n",
       "      <td>4.510084</td>\n",
       "      <td>5.402832</td>\n",
       "      <td>317594</td>\n",
       "    </tr>\n",
       "    <tr>\n",
       "      <th>2</th>\n",
       "      <td>3</td>\n",
       "      <td>5091179</td>\n",
       "      <td>4489528</td>\n",
       "      <td>5375706</td>\n",
       "      <td>5.091179</td>\n",
       "      <td>4.489528</td>\n",
       "      <td>5.375706</td>\n",
       "      <td>284527</td>\n",
       "    </tr>\n",
       "    <tr>\n",
       "      <th>3</th>\n",
       "      <td>4</td>\n",
       "      <td>5122058</td>\n",
       "      <td>4504249</td>\n",
       "      <td>5444682</td>\n",
       "      <td>5.122058</td>\n",
       "      <td>4.504249</td>\n",
       "      <td>5.444682</td>\n",
       "      <td>322624</td>\n",
       "    </tr>\n",
       "    <tr>\n",
       "      <th>4</th>\n",
       "      <td>5</td>\n",
       "      <td>5102003</td>\n",
       "      <td>4459979</td>\n",
       "      <td>5371796</td>\n",
       "      <td>5.102003</td>\n",
       "      <td>4.459979</td>\n",
       "      <td>5.371796</td>\n",
       "      <td>269793</td>\n",
       "    </tr>\n",
       "    <tr>\n",
       "      <th>5</th>\n",
       "      <td>6</td>\n",
       "      <td>5119014</td>\n",
       "      <td>4541182</td>\n",
       "      <td>5393130</td>\n",
       "      <td>5.119014</td>\n",
       "      <td>4.541182</td>\n",
       "      <td>5.393130</td>\n",
       "      <td>274116</td>\n",
       "    </tr>\n",
       "    <tr>\n",
       "      <th>6</th>\n",
       "      <td>7</td>\n",
       "      <td>5116218</td>\n",
       "      <td>4534924</td>\n",
       "      <td>5395971</td>\n",
       "      <td>5.116218</td>\n",
       "      <td>4.534924</td>\n",
       "      <td>5.395971</td>\n",
       "      <td>279753</td>\n",
       "    </tr>\n",
       "    <tr>\n",
       "      <th>7</th>\n",
       "      <td>8</td>\n",
       "      <td>5124031</td>\n",
       "      <td>4513732</td>\n",
       "      <td>5396217</td>\n",
       "      <td>5.124031</td>\n",
       "      <td>4.513732</td>\n",
       "      <td>5.396217</td>\n",
       "      <td>272186</td>\n",
       "    </tr>\n",
       "    <tr>\n",
       "      <th>8</th>\n",
       "      <td>9</td>\n",
       "      <td>5124796</td>\n",
       "      <td>4527860</td>\n",
       "      <td>5409930</td>\n",
       "      <td>5.124796</td>\n",
       "      <td>4.527860</td>\n",
       "      <td>5.409930</td>\n",
       "      <td>285134</td>\n",
       "    </tr>\n",
       "  </tbody>\n",
       "</table>\n",
       "</div>"
      ],
      "text/plain": [
       "   survey  ant_blks  censys_blks  antcensys_blks     ant_m  censys_m  \\\n",
       "0       1   5065901      4546581         5405358  5.065901  4.546581   \n",
       "1       2   5085238      4510084         5402832  5.085238  4.510084   \n",
       "2       3   5091179      4489528         5375706  5.091179  4.489528   \n",
       "3       4   5122058      4504249         5444682  5.122058  4.504249   \n",
       "4       5   5102003      4459979         5371796  5.102003  4.459979   \n",
       "5       6   5119014      4541182         5393130  5.119014  4.541182   \n",
       "6       7   5116218      4534924         5395971  5.116218  4.534924   \n",
       "7       8   5124031      4513732         5396217  5.124031  4.513732   \n",
       "8       9   5124796      4527860         5409930  5.124796  4.527860   \n",
       "\n",
       "   ant_censys_m    diff  \n",
       "0      5.405358  339457  \n",
       "1      5.402832  317594  \n",
       "2      5.375706  284527  \n",
       "3      5.444682  322624  \n",
       "4      5.371796  269793  \n",
       "5      5.393130  274116  \n",
       "6      5.395971  279753  \n",
       "7      5.396217  272186  \n",
       "8      5.409930  285134  "
      ]
     },
     "execution_count": 160,
     "metadata": {},
     "output_type": "execute_result"
    }
   ],
   "source": [
    "blk_summary_df"
   ]
  },
  {
   "cell_type": "code",
   "execution_count": 158,
   "id": "fa677aac",
   "metadata": {},
   "outputs": [
    {
     "data": {
      "text/plain": [
       "293909.3333333333"
      ]
     },
     "execution_count": 158,
     "metadata": {},
     "output_type": "execute_result"
    }
   ],
   "source": [
    "blk_summary_df['diff'] = blk_summary_df['antcensys_blks'] - blk_summary_df['ant_blks']\n",
    "blk_summary_df['diff'].mean()"
   ]
  },
  {
   "cell_type": "code",
   "execution_count": 161,
   "id": "316b3991",
   "metadata": {},
   "outputs": [
    {
     "data": {
      "image/png": "[encoded data removed]",
      "text/plain": [
       "<Figure size 720x360 with 1 Axes>"
      ]
     },
     "metadata": {
      "needs_background": "light"
     },
     "output_type": "display_data"
    }
   ],
   "source": [
    "\n",
    "fig, ax = plt.subplots(figsize=(10, 5))\n",
    "\n",
    "ax = blk_summary_df.set_index('survey')[['ant_m', 'censys_m', 'ant_censys_m']].plot.bar(ax=ax,color=COLORS, grid=True)\n",
    "\n",
    "ax.set_ylim(3, 5.5)\n",
    "ax.set_xlabel('Survey Number', fontsize=20)\n",
    "ax.set_ylabel('# of /24 Blocks', fontsize=20)\n",
    "ax.yaxis.set_major_formatter('{x:1.1f}M')\n",
    "ax.legend(['ANT', 'Censys', 'Combined'], fontsize=20, ncol=3, loc='lower left')\n",
    "ax.tick_params(axis='both', which='major', labelsize=20, rotation=0)\n",
    "#ax.yaxis.set_major_formatter(mpl.ticker.StrMethodFormatter('{x.2f}'))\n",
    "plt.savefig('figs_pam/ant_censys_blk_time_new.pdf', bbox_inches='tight')"
   ]
  },
  {
   "cell_type": "code",
   "execution_count": null,
   "id": "65f7d04f",
   "metadata": {},
   "outputs": [],
   "source": [
    "asn_summary_df['ant_k'] = asn_summary_df['ant']/1000\n",
    "asn_summary_df['censys_k'] = asn_summary_df['censys']/1000\n",
    "asn_summary_df['ant_censys_k'] = asn_summary_df['ant_censys']/1000"
   ]
  },
  {
   "cell_type": "code",
   "execution_count": 159,
   "id": "d561eaa1",
   "metadata": {},
   "outputs": [
    {
     "data": {
      "text/html": [
       "<div>\n",
       "<style scoped>\n",
       "    .dataframe tbody tr th:only-of-type {\n",
       "        vertical-align: middle;\n",
       "    }\n",
       "\n",
       "    .dataframe tbody tr th {\n",
       "        vertical-align: top;\n",
       "    }\n",
       "\n",
       "    .dataframe thead th {\n",
       "        text-align: right;\n",
       "    }\n",
       "</style>\n",
       "<table border=\"1\" class=\"dataframe\">\n",
       "  <thead>\n",
       "    <tr style=\"text-align: right;\">\n",
       "      <th></th>\n",
       "      <th>ant</th>\n",
       "      <th>censys</th>\n",
       "      <th>survey</th>\n",
       "      <th>ant_censys</th>\n",
       "      <th>ant_k</th>\n",
       "      <th>censys_k</th>\n",
       "      <th>ant_censys_k</th>\n",
       "    </tr>\n",
       "  </thead>\n",
       "  <tbody>\n",
       "    <tr>\n",
       "      <th>0</th>\n",
       "      <td>64848</td>\n",
       "      <td>63594</td>\n",
       "      <td>1</td>\n",
       "      <td>67106</td>\n",
       "      <td>64.848</td>\n",
       "      <td>63.594</td>\n",
       "      <td>67.106</td>\n",
       "    </tr>\n",
       "    <tr>\n",
       "      <th>1</th>\n",
       "      <td>65750</td>\n",
       "      <td>64250</td>\n",
       "      <td>2</td>\n",
       "      <td>67988</td>\n",
       "      <td>65.750</td>\n",
       "      <td>64.250</td>\n",
       "      <td>67.988</td>\n",
       "    </tr>\n",
       "    <tr>\n",
       "      <th>2</th>\n",
       "      <td>66290</td>\n",
       "      <td>64929</td>\n",
       "      <td>3</td>\n",
       "      <td>68436</td>\n",
       "      <td>66.290</td>\n",
       "      <td>64.929</td>\n",
       "      <td>68.436</td>\n",
       "    </tr>\n",
       "    <tr>\n",
       "      <th>3</th>\n",
       "      <td>67188</td>\n",
       "      <td>65354</td>\n",
       "      <td>4</td>\n",
       "      <td>69404</td>\n",
       "      <td>67.188</td>\n",
       "      <td>65.354</td>\n",
       "      <td>69.404</td>\n",
       "    </tr>\n",
       "    <tr>\n",
       "      <th>4</th>\n",
       "      <td>67540</td>\n",
       "      <td>66555</td>\n",
       "      <td>5</td>\n",
       "      <td>69779</td>\n",
       "      <td>67.540</td>\n",
       "      <td>66.555</td>\n",
       "      <td>69.779</td>\n",
       "    </tr>\n",
       "    <tr>\n",
       "      <th>5</th>\n",
       "      <td>68131</td>\n",
       "      <td>67225</td>\n",
       "      <td>6</td>\n",
       "      <td>70505</td>\n",
       "      <td>68.131</td>\n",
       "      <td>67.225</td>\n",
       "      <td>70.505</td>\n",
       "    </tr>\n",
       "    <tr>\n",
       "      <th>6</th>\n",
       "      <td>68745</td>\n",
       "      <td>67653</td>\n",
       "      <td>7</td>\n",
       "      <td>71088</td>\n",
       "      <td>68.745</td>\n",
       "      <td>67.653</td>\n",
       "      <td>71.088</td>\n",
       "    </tr>\n",
       "    <tr>\n",
       "      <th>7</th>\n",
       "      <td>69317</td>\n",
       "      <td>67997</td>\n",
       "      <td>8</td>\n",
       "      <td>71684</td>\n",
       "      <td>69.317</td>\n",
       "      <td>67.997</td>\n",
       "      <td>71.684</td>\n",
       "    </tr>\n",
       "    <tr>\n",
       "      <th>8</th>\n",
       "      <td>69188</td>\n",
       "      <td>67716</td>\n",
       "      <td>9</td>\n",
       "      <td>71554</td>\n",
       "      <td>69.188</td>\n",
       "      <td>67.716</td>\n",
       "      <td>71.554</td>\n",
       "    </tr>\n",
       "  </tbody>\n",
       "</table>\n",
       "</div>"
      ],
      "text/plain": [
       "     ant  censys  survey  ant_censys   ant_k  censys_k  ant_censys_k\n",
       "0  64848   63594       1       67106  64.848    63.594        67.106\n",
       "1  65750   64250       2       67988  65.750    64.250        67.988\n",
       "2  66290   64929       3       68436  66.290    64.929        68.436\n",
       "3  67188   65354       4       69404  67.188    65.354        69.404\n",
       "4  67540   66555       5       69779  67.540    66.555        69.779\n",
       "5  68131   67225       6       70505  68.131    67.225        70.505\n",
       "6  68745   67653       7       71088  68.745    67.653        71.088\n",
       "7  69317   67997       8       71684  69.317    67.997        71.684\n",
       "8  69188   67716       9       71554  69.188    67.716        71.554"
      ]
     },
     "execution_count": 159,
     "metadata": {},
     "output_type": "execute_result"
    }
   ],
   "source": [
    "asn_summary_df"
   ]
  },
  {
   "cell_type": "code",
   "execution_count": 145,
   "id": "3f98398c",
   "metadata": {},
   "outputs": [
    {
     "data": {
      "image/png": "[encoded data removed]",
      "text/plain": [
       "<Figure size 720x360 with 1 Axes>"
      ]
     },
     "metadata": {
      "needs_background": "light"
     },
     "output_type": "display_data"
    }
   ],
   "source": [
    "\n",
    "fig, ax = plt.subplots(figsize=(10, 5))\n",
    "\n",
    "ax = asn_summary_df.set_index('survey')[['ant_k', 'censys_k', 'ant_censys_k']].plot.bar(ax=ax,color=COLORS, grid=True)\n",
    "\n",
    "ax.set_ylim(60, 72)\n",
    "ax.set_xlabel('Survey Number', fontsize=20)\n",
    "ax.set_ylabel('# of ASNs', fontsize=20)\n",
    "ax.yaxis.set_major_formatter('{x:1.0f}k')\n",
    "ax.legend(['ANT', 'Censys', 'Combined'], fontsize=20, ncol=1)\n",
    "ax.tick_params(axis='both', which='major', labelsize=20, rotation=0)\n",
    "#ax.yaxis.set_major_formatter(mpl.ticker.StrMethodFormatter('{x.2f}'))\n",
    "plt.savefig('figs_pam/ant_censys_asn_time_new.pdf', bbox_inches='tight')"
   ]
  },
  {
   "cell_type": "markdown",
   "id": "e2244fae",
   "metadata": {},
   "source": [
    "## Read summary data from disk"
   ]
  },
  {
   "cell_type": "code",
   "execution_count": 7,
   "id": "d3bb2cca",
   "metadata": {},
   "outputs": [
    {
     "name": "stdout",
     "output_type": "stream",
     "text": [
      "83\n",
      "85\n",
      "86\n",
      "87\n",
      "88\n",
      "89\n"
     ]
    },
    {
     "name": "stderr",
     "output_type": "stream",
     "text": [
      "/home/msethuraman3/censys-ant/.venv/lib/python3.6/site-packages/IPython/core/interactiveshell.py:3072: DtypeWarning: Columns (4) have mixed types.Specify dtype option on import or set low_memory=False.\n",
      "  interactivity=interactivity, compiler=compiler, result=result)\n"
     ]
    },
    {
     "name": "stdout",
     "output_type": "stream",
     "text": [
      "90\n",
      "91\n"
     ]
    }
   ],
   "source": [
    "survey_cts = []\n",
    "ant_24s = {}\n",
    "censys_24s = {}\n",
    "combined_24s= {}\n",
    "for s in range(83, 92):\n",
    "    survey = str(s)\n",
    "    if s == 84:\n",
    "        continue\n",
    "    print(s)\n",
    "    ant_24s[survey] = pd.read_csv('/data1/manasvini/ant_censys_processed/ant_survey_'+survey + '.csv')\n",
    "    censys_24s[survey] = pd.read_csv('/data1/manasvini/ant_censys_processed/censys_survey_'+survey + '.csv')\n",
    "    combined_24s[survey]= pd.read_csv('/data1/manasvini/ant_censys_processed/ant_censys_survey_'+survey + '.csv')"
   ]
  },
  {
   "cell_type": "code",
   "execution_count": 8,
   "id": "8ccd6d43",
   "metadata": {},
   "outputs": [],
   "source": [
    "num_24_df = []\n",
    "for i in range(len(ant_24s)):\n",
    "    s = i + 83\n",
    "    if s >= 84:\n",
    "        s += 1\n",
    "    censys_24_ddf = dd.from_pandas(censys_24s[str(s)], npartitions=20)\n",
    "    ant_24_ddf = dd.from_pandas(ant_24s[str(s)], npartitions=20)\n",
    "    merged_df = dd.concat([ant_24_ddf['/24'],censys_24_ddf['/24']]).drop_duplicates().compute()\n",
    "    #merged_24_dfs[str(s)] = merged_df\n",
    "    num_24_df.append({'ant': len(ant_24s[str(s)]), 'censys':len(censys_24s[str(s)]), 'survey_num': s, 'ANT+Censys':len(merged_df)})"
   ]
  },
  {
   "cell_type": "code",
   "execution_count": 9,
   "id": "ec84263d",
   "metadata": {},
   "outputs": [],
   "source": [
    "num_24_df = pd.DataFrame(num_24_df)\n",
    "num_24_df.set_index('survey_num', inplace=True)"
   ]
  },
  {
   "cell_type": "markdown",
   "id": "6225623c",
   "metadata": {},
   "source": [
    "## /24s discovered in ANT and Censys over time  \n",
    "- Find unique /24 blocks in ANT, Censys and ANT + Censys combined\n",
    "- Repeat for every survey (Starting Nov 2020 up until Dec 2022)\n",
    "- Adding Censys probes adds about 0.4 million unique /24s in each survey"
   ]
  },
  {
   "cell_type": "code",
   "execution_count": null,
   "id": "3ec89e52",
   "metadata": {},
   "outputs": [],
   "source": [
    "fig, ax = plt.subplots(figsize=(10, 5))\n",
    "ax = num_24_df.plot.bar(ax=ax)\n",
    "ax.set_ylim(4e6, 6e6)\n",
    "ax.set_xlabel('Survey Number', fontsize=20)\n",
    "ax.set_ylabel('# of /24s', fontsize=20)\n",
    "ax.legend(['ANT /24', 'Censys /24', 'ANT + Censys /24'], fontsize=15, ncol=3)\n",
    "ax.tick_params(axis='both', which='major', labelsize=20, rotation=0)\n",
    "plt.savefig('ant_censys_24_time_new.pdf', bbox_inches='tight')"
   ]
  },
  {
   "cell_type": "markdown",
   "id": "3c63dbc1",
   "metadata": {},
   "source": [
    "## AS level summary stats  \n",
    "- Find # of unique ASes in each dataset across surveys"
   ]
  },
  {
   "cell_type": "code",
   "execution_count": 10,
   "id": "6e227d90",
   "metadata": {},
   "outputs": [
    {
     "name": "stdout",
     "output_type": "stream",
     "text": [
      "83\n",
      "85\n",
      "86\n",
      "87\n",
      "88\n",
      "89\n",
      "90\n",
      "91\n"
     ]
    }
   ],
   "source": [
    "asns_df = []\n",
    "for s in range(83, 92):\n",
    "    survey = str(s)\n",
    "    if s == 84:\n",
    "        continue\n",
    "    print(s)\n",
    "    censys_asn_df = censys_24s[str(s)]\n",
    "    #censys_asn_df = censys_asn_df.merge(asn_df, how='inner', on='/24') \n",
    "    #censys_24_ddf['num_asns'] = censys_24_ddf['asn'].apply(lambda x: len(x.split(',')), meta=('asn', 'str'))\n",
    "    \n",
    "    ant_asn_df = ant_24s[str(s)]\n",
    "    #ant_asn_df = ant_asn_df.merge(asn_df, how='inner', on='/24')\n",
    "\n",
    "  \n",
    "    ant_ases = set(list(ant_asn_df[(ant_asn_df['num_asns']==1)&(ant_asn_df['asn']!='')]['asn']))\n",
    "    censys_ases = set(list(censys_asn_df[(censys_asn_df['num_asns']==1)&(censys_asn_df['asn']!='')]['asn']))\n",
    "    asns_df.append({'ant':ant_asn_df[ant_asn_df['num_asns']==1]['asn'].nunique(), \\\n",
    "                   'censys':censys_asn_df[censys_asn_df['num_asns']==1]['asn'].nunique(),\\\n",
    "                   'survey':str(s-82),\\\n",
    "                   'ant_censys':len(ant_ases.union(censys_ases))})\n",
    "    #ant_24s[str(s)] = ant_asn_df\n",
    "    #censys_24s[str(s)] = censys_asn_df"
   ]
  },
  {
   "cell_type": "code",
   "execution_count": 14,
   "id": "b913ecb2",
   "metadata": {},
   "outputs": [
    {
     "data": {
      "text/html": [
       "<div>\n",
       "<style scoped>\n",
       "    .dataframe tbody tr th:only-of-type {\n",
       "        vertical-align: middle;\n",
       "    }\n",
       "\n",
       "    .dataframe tbody tr th {\n",
       "        vertical-align: top;\n",
       "    }\n",
       "\n",
       "    .dataframe thead th {\n",
       "        text-align: right;\n",
       "    }\n",
       "</style>\n",
       "<table border=\"1\" class=\"dataframe\">\n",
       "  <thead>\n",
       "    <tr style=\"text-align: right;\">\n",
       "      <th></th>\n",
       "      <th>ant</th>\n",
       "      <th>censys</th>\n",
       "      <th>ant_censys</th>\n",
       "    </tr>\n",
       "    <tr>\n",
       "      <th>survey</th>\n",
       "      <th></th>\n",
       "      <th></th>\n",
       "      <th></th>\n",
       "    </tr>\n",
       "  </thead>\n",
       "  <tbody>\n",
       "    <tr>\n",
       "      <th>1</th>\n",
       "      <td>64847</td>\n",
       "      <td>64686</td>\n",
       "      <td>67204</td>\n",
       "    </tr>\n",
       "    <tr>\n",
       "      <th>3</th>\n",
       "      <td>66289</td>\n",
       "      <td>66574</td>\n",
       "      <td>68472</td>\n",
       "    </tr>\n",
       "    <tr>\n",
       "      <th>4</th>\n",
       "      <td>67187</td>\n",
       "      <td>67790</td>\n",
       "      <td>69569</td>\n",
       "    </tr>\n",
       "    <tr>\n",
       "      <th>5</th>\n",
       "      <td>67539</td>\n",
       "      <td>68334</td>\n",
       "      <td>69842</td>\n",
       "    </tr>\n",
       "    <tr>\n",
       "      <th>6</th>\n",
       "      <td>68130</td>\n",
       "      <td>69219</td>\n",
       "      <td>70623</td>\n",
       "    </tr>\n",
       "    <tr>\n",
       "      <th>7</th>\n",
       "      <td>68782</td>\n",
       "      <td>69538</td>\n",
       "      <td>71206</td>\n",
       "    </tr>\n",
       "    <tr>\n",
       "      <th>8</th>\n",
       "      <td>69316</td>\n",
       "      <td>70289</td>\n",
       "      <td>71906</td>\n",
       "    </tr>\n",
       "    <tr>\n",
       "      <th>9</th>\n",
       "      <td>69187</td>\n",
       "      <td>69986</td>\n",
       "      <td>71647</td>\n",
       "    </tr>\n",
       "  </tbody>\n",
       "</table>\n",
       "</div>"
      ],
      "text/plain": [
       "          ant  censys  ant_censys\n",
       "survey                           \n",
       "1       64847   64686       67204\n",
       "3       66289   66574       68472\n",
       "4       67187   67790       69569\n",
       "5       67539   68334       69842\n",
       "6       68130   69219       70623\n",
       "7       68782   69538       71206\n",
       "8       69316   70289       71906\n",
       "9       69187   69986       71647"
      ]
     },
     "execution_count": 14,
     "metadata": {},
     "output_type": "execute_result"
    }
   ],
   "source": []
  },
  {
   "cell_type": "code",
   "execution_count": 11,
   "id": "85fd4268",
   "metadata": {},
   "outputs": [
    {
     "data": {
      "image/png": "[encoded data removed]",
      "text/plain": [
       "<Figure size 720x360 with 1 Axes>"
      ]
     },
     "metadata": {
      "needs_background": "light"
     },
     "output_type": "display_data"
    }
   ],
   "source": [
    "asns_df = pd.DataFrame(asns_df)\n",
    "asns_df.set_index('survey', inplace=True)\n",
    "fig, ax = plt.subplots(figsize=(10, 5))\n",
    "ax = asns_df.plot.bar(ax=ax)\n",
    "ax.set_ylim(6e4, 7.5e4)\n",
    "ax.set_xlabel('Survey Number', fontsize=20)\n",
    "ax.set_ylabel('# of ASNs', fontsize=20)\n",
    "ax.legend(['ANT ASNs', 'Censys ASNs', 'ANT + Censys ASNs'], fontsize=15, ncol=3)\n",
    "ax.tick_params(axis='both', which='major', labelsize=20, rotation=0)\n",
    "#plt.savefig('figs_analysis_2/ant_censys_asn_time.png', bbox_inches='tight')"
   ]
  },
  {
   "cell_type": "code",
   "execution_count": 12,
   "id": "2e4ccef9",
   "metadata": {},
   "outputs": [
    {
     "name": "stdout",
     "output_type": "stream",
     "text": [
      "83 7516\n",
      "85 5929\n",
      "86 6493\n",
      "87 5740\n",
      "88 5926\n",
      "89 5833\n",
      "90 6232\n",
      "91 5837\n"
     ]
    }
   ],
   "source": [
    "asn_cts = []\n",
    "asn_merged_dfs = []\n",
    "for survey in ant_24s:\n",
    "    asn_ant_df = ant_24s[survey]\n",
    "    #asn_ant_df.rename(columns={'asn_x':'asn'}, inplace=True)\n",
    "    asn_censys_df = censys_24s[survey]\n",
    "    \n",
    "    asn_ant_censys_df = dd.concat([asn_ant_df, asn_censys_df]).groupby(['asn', '/24']).count().fillna(0).compute().reset_index()\n",
    "    asn_ant_censys_both = asn_ant_censys_df[(asn_ant_censys_df['survey_'+survey]==1) &\\\n",
    "                                            (asn_ant_censys_df['censys_survey_'+survey]==1)].groupby('asn')['/24'].count().reset_index()\n",
    "    \n",
    "    asn_ant = asn_ant_censys_df[(asn_ant_censys_df['survey_'+survey]!=0) &\\\n",
    "                                            (asn_ant_censys_df['censys_survey_'+survey]==0)].groupby('asn')['/24'].count().reset_index()\n",
    "    \n",
    "    asn_censys = asn_ant_censys_df[(asn_ant_censys_df['survey_'+survey]==0) &\\\n",
    "                                            (asn_ant_censys_df['censys_survey_'+survey]!=0)].groupby('asn')['/24'].count().reset_index()\n",
    "    \n",
    "    asn_merged_df = asn_ant_censys_both.merge(asn_ant, on='asn', how='inner')\n",
    "    asn_merged_df.rename(columns={'/24_x':'both /24', '/24_y':'ant /24'}, inplace=True)\n",
    "    asn_merged_df = asn_merged_df.merge(asn_censys, on='asn', how='inner').rename(columns={'/24':'censys /24'})\n",
    "    print(survey, len(asn_merged_df))\n",
    "    asn_merged_df = asn_merged_df[asn_merged_df['asn']!='']\n",
    "    asn_merged_df['total'] = asn_merged_df['both /24'] + asn_merged_df['ant /24'] + asn_merged_df['censys /24']\n",
    "\n",
    "    asn_merged_df['both /24 %'] = 100 * asn_merged_df['both /24'] / asn_merged_df['total']\n",
    "    \n",
    "    asn_merged_df['ant /24 %'] = 100 * asn_merged_df['ant /24'] / asn_merged_df['total']\n",
    "    \n",
    "    asn_merged_df['censys /24 %'] = 100 * asn_merged_df['censys /24'] / asn_merged_df['total']\n",
    "    \n",
    "    asn_merged_dfs.append(asn_merged_df)\n",
    "    asn_cts.append({'survey':survey, 'both':asn_merged_df['both /24'].sum(), \\\n",
    "                   'ant': asn_merged_df['ant /24'].sum(), 'censys':asn_merged_df['censys /24'].sum()}) \n",
    "    "
   ]
  },
  {
   "cell_type": "code",
   "execution_count": 13,
   "id": "ebbe6fc8",
   "metadata": {},
   "outputs": [
    {
     "data": {
      "text/plain": [
       "[{'survey': '83', 'both': 3944280, 'ant': 627555, 'censys': 324137},\n",
       " {'survey': '85', 'both': 3913224, 'ant': 556606, 'censys': 247832},\n",
       " {'survey': '86', 'both': 4009044, 'ant': 551226, 'censys': 283909},\n",
       " {'survey': '87', 'both': 3857833, 'ant': 591315, 'censys': 254783},\n",
       " {'survey': '88', 'both': 3959493, 'ant': 528293, 'censys': 261208},\n",
       " {'survey': '89', 'both': 3965907, 'ant': 528315, 'censys': 270512},\n",
       " {'survey': '90', 'both': 3982758, 'ant': 579369, 'censys': 282549},\n",
       " {'survey': '91', 'both': 3933492, 'ant': 539724, 'censys': 270429}]"
      ]
     },
     "execution_count": 13,
     "metadata": {},
     "output_type": "execute_result"
    }
   ],
   "source": [
    "asn_cts"
   ]
  },
  {
   "cell_type": "code",
   "execution_count": null,
   "id": "7d6c4713",
   "metadata": {},
   "outputs": [],
   "source": [
    "# asn_cts_df = pd.DataFrame(asn_cts)\n",
    "# asn_cts_df.set_index('survey', inplace=True)\n",
    "# fig, ax = plt.subplots(figsize=(10, 4))\n",
    "# ax = asn_cts_df.plot.bar(ax=ax)\n",
    "# #ax.set_ylim(3e6, 7.5e4)\n",
    "# ax.set_xlabel('Survey Number', fontsize=20)\n",
    "# ax.set_ylabel('# of /24s in common ASNs', fontsize=20)\n",
    "# ax.legend(['ANT + Censys /24s', 'ANT ASNs', 'Censys ASNs'], fontsize=15, ncol=3)\n",
    "# ax.tick_params(axis='both', which='major', labelsize=20, rotation=0)\n",
    "# plt.savefig('figs_analysis_2/ant_censys_asn_24_time.png', bbox_inches='tight')"
   ]
  },
  {
   "cell_type": "markdown",
   "id": "1e984139",
   "metadata": {},
   "source": [
    "## Common /24s within ASes  \n",
    "- Find /24s common to ASes in both datasets\n",
    "- CDf of % of common ASes across all ASes"
   ]
  },
  {
   "cell_type": "code",
   "execution_count": null,
   "id": "bfb27d98",
   "metadata": {},
   "outputs": [],
   "source": [
    "fig, ax = plt.subplots(figsize=(10,6))\n",
    "for df in asn_merged_dfs:\n",
    "    df['both /24 %'] = df['both /24 %'].astype(int)\n",
    "    df['ant /24 %'] = df['ant /24 %'].astype(int)\n",
    "    df['censys /24 %'] = df['censys /24 %'].astype(int)\n",
    "    asn_ct_24_df = df.groupby('both /24 %')['asn'].count().reset_index()\n",
    "    asn_ct_24_df['cumsum'] = asn_ct_24_df['asn'].cumsum()\n",
    "    asn_ct_24_df['frac'] = asn_ct_24_df['cumsum'] / asn_ct_24_df['cumsum'].max()\n",
    "    ax= asn_ct_24_df.plot.line(x='both /24 %', y='frac', ax =ax)\n",
    "ax.legend(['survey '+ str(i) for i in range(1, len(asn_merged_dfs)+1)], fontsize=15, ncol=2)\n",
    "ax.set_xlabel('% of /24s common to ANT and Censys', fontsize=20)\n",
    "ax.set_ylabel('Fraction of ASes', fontsize=20)\n",
    "ax.tick_params(axis='both', which='major', labelsize=20)\n",
    "plt.savefig('figs_analysis_2/ant_censys_common_asn_cdf.png', bbox_inches='tight')"
   ]
  },
  {
   "cell_type": "markdown",
   "id": "d0727cd9",
   "metadata": {},
   "source": [
    "## Which ASes have large number of /24s unique to each dataset?  \n",
    "- Who are the ASes? \n",
    "- What is the size of their customer cone?\n",
    "- Calculate /24s common to ANT and Censys for each AS  \n",
    "- Group ASes by % of /24s common to ANT and Censys  \n",
    "- Plot the mean # of prefixes against the number of common /24s"
   ]
  },
  {
   "cell_type": "code",
   "execution_count": null,
   "id": "cf905777",
   "metadata": {},
   "outputs": [],
   "source": [
    "asrank_df = pd.read_csv('/data1/manasvini/asrank/asinfo.csv')"
   ]
  },
  {
   "cell_type": "code",
   "execution_count": null,
   "id": "3112dd27",
   "metadata": {},
   "outputs": [],
   "source": [
    "ctr = 0\n",
    "for df in asn_merged_dfs:\n",
    "    fig, ax = plt.subplots(figsize=(15,6))\n",
    "    tmpdf = df[df['asn'].str.contains(',')==False].reset_index()\n",
    "\n",
    "    tmpdf['asn'] = tmpdf['asn'].astype(int)\n",
    "    tmpdf['both /24 %'] = tmpdf['both /24 %'].astype(int) \n",
    "    merged_asrank_df = tmpdf.merge(asrank_df, on='asn', how='inner')\n",
    "    #pfx_mean_df = merged_asrank_df.groupby('both /24 %')['prefixes'].mean().reset_index()\n",
    "    merged_asrank_df['bin'] = '<= ' + ((merged_asrank_df['both /24 %']/10).astype(int) * 10).astype(str) \n",
    "    \n",
    "    merged_asrank_df.boxplot('prefixes', by='bin', ax=ax, showfliers=False)\n",
    "    ax.set_xlabel('% of /24s common to ANT and Censys in AS', fontsize=20)\n",
    "    ax.set_ylabel('Mean # of prefixes for AS', fontsize=20)\n",
    "    ax.tick_params(axis='x', which='major', labelsize=15, rotation=0)\n",
    "    ax.tick_params(axis='y', which='major', labelsize=20)\n",
    "    ctr += 1\n",
    "    #plt.savefig('figs_analysis_2/pfx_as_24_survey_'+str(ctr) + '.png', bbox_inches='tight')\n",
    "    #print(merged_asrank_df['addresses'].mean(), merged_asrank_df['cone_asns'].mean(), merged_asrank_df['prefixes'].mean())"
   ]
  },
  {
   "cell_type": "code",
   "execution_count": null,
   "id": "585c55b0",
   "metadata": {},
   "outputs": [],
   "source": []
  },
  {
   "cell_type": "code",
   "execution_count": null,
   "id": "140db331",
   "metadata": {
    "scrolled": true
   },
   "outputs": [],
   "source": [
    "ctr = 0\n",
    "for df in asn_merged_dfs:\n",
    "    fig, ax = plt.subplots(figsize=(15,7))\n",
    "    tmpdf = df[df['asn'].str.contains(',')==False].reset_index()\n",
    "\n",
    "    tmpdf['asn'] = tmpdf['asn'].astype(int)\n",
    "    tmpdf['both /24 %'] = tmpdf['both /24 %'].astype(int) \n",
    "    merged_asrank_df = tmpdf.merge(asrank_df, on='asn', how='inner')\n",
    "    #pfx_mean_df = merged_asrank_df.groupby('both /24 %')['addresses'].mean().reset_index()\n",
    "    merged_asrank_df['bin'] = '<= ' + ((merged_asrank_df['both /24 %']/10).astype(int) * 10).astype(str) \n",
    "    \n",
    "    #pfx_mean_df.groupby('bin')['addresses'].mean().plot.bar(x='bin', y='prefixes', ax=ax)\n",
    "    pfx_mean_df.boxplot('addresses', by='bin', ax=ax)\n",
    "    \n",
    "    ax.set_xlabel('% of /24s common to ANT and Censys in AS', fontsize=20)\n",
    "    ax.set_ylabel('# of addresses for AS', fontsize=20)\n",
    "    ax.tick_params(axis='x', which='major', labelsize=15, rotation=0)\n",
    "    ax.tick_params(axis='y', which='major', labelsize=20)\n",
    "    ctr += 1\n",
    "    #plt.tight_layout()\n",
    "    #plt.savefig('figs_analysis_2/address_as_24_survey_'+str(ctr) + '_boxplot.png', bbox_inches='tight')\n",
    "    #print(merged_asrank_df['addresses'].mean(), merged_asrank_df['cone_asns'].mean(), merged_asrank_df['prefixes'].mean())"
   ]
  },
  {
   "cell_type": "markdown",
   "id": "77d41021",
   "metadata": {},
   "source": [
    "## Trinocular  Data Generation\n",
    "- Compute block availability scores. Let's take one survey for the time being and compute block availability like so: sum of individual host availability (0=no response, 1 =response) divided by block size.  \n",
    "- Then plot a CDF of block availability scores  "
   ]
  },
  {
   "cell_type": "markdown",
   "id": "d01538ed",
   "metadata": {},
   "source": [
    "## Save per survey availability stats"
   ]
  },
  {
   "cell_type": "code",
   "execution_count": 21,
   "id": "363f6fce",
   "metadata": {},
   "outputs": [],
   "source": [
    "\n",
    "def ip2int(x):\n",
    "    return netaddr.IPAddress(x).value\n",
    "\n",
    "def int2ip24(x):\n",
    "    ip =  str(netaddr.IPAddress(int(x)))\n",
    "    return ip2int('.'.join(ip.split('.')[0:3]) + '.0')\n",
    "\n",
    "def get24fromint(x):\n",
    "    return   str(netaddr.IPAddress(int(x)))\n",
    "def get_24_from_int(df):\n",
    "    return df['ipint'].apply(lambda x: int2ip24(x))"
   ]
  },
  {
   "cell_type": "code",
   "execution_count": 9,
   "id": "4a973650",
   "metadata": {},
   "outputs": [
    {
     "data": {
      "text/plain": [
       "'0.15.66.64'"
      ]
     },
     "execution_count": 9,
     "metadata": {},
     "output_type": "execute_result"
    }
   ],
   "source": [
    "get24fromint(1000000)"
   ]
  },
  {
   "cell_type": "code",
   "execution_count": 10,
   "id": "e8bc3f63",
   "metadata": {},
   "outputs": [],
   "source": [
    "block_availability_dfs = []\n",
    "BLOCK_SIZE = 256"
   ]
  },
  {
   "cell_type": "markdown",
   "id": "9a56864d",
   "metadata": {},
   "source": [
    "## Save A(E(b)) for ANT"
   ]
  },
  {
   "cell_type": "code",
   "execution_count": 11,
   "id": "4ab0c78b",
   "metadata": {},
   "outputs": [
    {
     "name": "stdout",
     "output_type": "stream",
     "text": [
      "88\n",
      "Index(['ipint', 'survey_88'], dtype='object')\n",
      "89\n",
      "Index(['ipint', 'survey_89'], dtype='object')\n",
      "90\n",
      "Index(['ipint', 'survey_90'], dtype='object')\n",
      "91\n",
      "Index(['ipint', 'survey_91'], dtype='object')\n"
     ]
    }
   ],
   "source": [
    "merged_survey_ddfs = []\n",
    "for surveynum in range(88, 92):\n",
    "    surveystr = str(surveynum)   \n",
    "    print(surveynum)\n",
    "    merged_ddfs = []\n",
    "    for p in range(10):\n",
    "\n",
    "        files = get_files('/data1/manasvini/ant_merged_new/ant_merged_'+str(p) + '/' + 'survey_' + surveystr, 'parquet')\n",
    "        merged_ddf = dd.read_parquet(files, blocksize='50MB').repartition(partition_size='25MB')\n",
    "        merged_ddfs.append(merged_ddf)\n",
    "    merged_ddf = dd.concat(merged_ddfs)\n",
    "    print(merged_ddf.columns)\n",
    "    #print(merged_ddf.head(10))\n",
    "    if len(merged_survey_ddfs) == 0:\n",
    "        merged_survey_ddfs.append(merged_ddf)\n",
    "    else:\n",
    "        merged_survey_ddfs.append(merged_ddf['survey_'+surveystr])"
   ]
  },
  {
   "cell_type": "code",
   "execution_count": null,
   "id": "b92421ec",
   "metadata": {},
   "outputs": [],
   "source": [
    "def set_max_val(x):\n",
    "    if x > 1:\n",
    "        return 1\n",
    "    return x"
   ]
  },
  {
   "cell_type": "code",
   "execution_count": 12,
   "id": "472523e1",
   "metadata": {},
   "outputs": [],
   "source": [
    "ant_merged_ddf = dd.concat(merged_survey_ddfs, axis=1, ignore_unknown_divisions=True)\n",
    "# ant_censys_merged_ddf.columns\n",
    "for c in ['survey_88', 'survey_89', 'survey_90', 'survey_91']:\n",
    "    ant_merged_ddf[c] = ant_merged_ddf[c].apply(lambda x: set_max_val(x), meta=(c, 'int64'))    "
   ]
  },
  {
   "cell_type": "code",
   "execution_count": 16,
   "id": "4fc32e63",
   "metadata": {},
   "outputs": [
    {
     "data": {
      "text/plain": [
       "ipint        820140651\n",
       "survey_88    820140651\n",
       "survey_89    820140651\n",
       "survey_90    820140651\n",
       "survey_91    820140651\n",
       "/24          820140651\n",
       "dtype: int64"
      ]
     },
     "execution_count": 16,
     "metadata": {},
     "output_type": "execute_result"
    }
   ],
   "source": [
    "ant_merged_ddf.count().compute()"
   ]
  },
  {
   "cell_type": "code",
   "execution_count": 15,
   "id": "99903f5b",
   "metadata": {},
   "outputs": [],
   "source": [
    "ant_merged_ddf['/24']  =  ant_merged_ddf.map_partitions(get_24_from_int).astype(int)"
   ]
  },
  {
   "cell_type": "code",
   "execution_count": 17,
   "id": "aab32eb6",
   "metadata": {},
   "outputs": [],
   "source": [
    "os.makedirs('/data1/manasvini/ant_intermediate_new/aeb_last4', exist_ok=True)\n",
    "ant_merged_ddf.to_parquet('/data1/manasvini/ant_intermediate_new/aeb_last4',overwrite=True, write_index=False, compression={\"name\": \"gzip\", \"values\": \"lz4\"} )"
   ]
  },
  {
   "cell_type": "code",
   "execution_count": 18,
   "id": "6a536b38",
   "metadata": {},
   "outputs": [],
   "source": [
    "files = get_files('/data1/manasvini/ant_intermediate_new/aeb_last4', 'parquet')\n",
    "ant_merged_ddf = dd.read_parquet(files, blocksize='20MB')"
   ]
  },
  {
   "cell_type": "code",
   "execution_count": 19,
   "id": "c3959bf5",
   "metadata": {},
   "outputs": [
    {
     "data": {
      "text/html": [
       "<div>\n",
       "<style scoped>\n",
       "    .dataframe tbody tr th:only-of-type {\n",
       "        vertical-align: middle;\n",
       "    }\n",
       "\n",
       "    .dataframe tbody tr th {\n",
       "        vertical-align: top;\n",
       "    }\n",
       "\n",
       "    .dataframe thead th {\n",
       "        text-align: right;\n",
       "    }\n",
       "</style>\n",
       "<table border=\"1\" class=\"dataframe\">\n",
       "  <thead>\n",
       "    <tr style=\"text-align: right;\">\n",
       "      <th></th>\n",
       "      <th>ipint</th>\n",
       "      <th>survey_88</th>\n",
       "      <th>survey_89</th>\n",
       "      <th>survey_90</th>\n",
       "      <th>survey_91</th>\n",
       "      <th>/24</th>\n",
       "    </tr>\n",
       "  </thead>\n",
       "  <tbody>\n",
       "    <tr>\n",
       "      <th>0</th>\n",
       "      <td>16777220</td>\n",
       "      <td>1</td>\n",
       "      <td>1</td>\n",
       "      <td>1</td>\n",
       "      <td>1</td>\n",
       "      <td>16777216</td>\n",
       "    </tr>\n",
       "    <tr>\n",
       "      <th>1</th>\n",
       "      <td>16777230</td>\n",
       "      <td>1</td>\n",
       "      <td>1</td>\n",
       "      <td>1</td>\n",
       "      <td>1</td>\n",
       "      <td>16777216</td>\n",
       "    </tr>\n",
       "    <tr>\n",
       "      <th>2</th>\n",
       "      <td>16777240</td>\n",
       "      <td>1</td>\n",
       "      <td>1</td>\n",
       "      <td>1</td>\n",
       "      <td>1</td>\n",
       "      <td>16777216</td>\n",
       "    </tr>\n",
       "    <tr>\n",
       "      <th>3</th>\n",
       "      <td>16777250</td>\n",
       "      <td>1</td>\n",
       "      <td>1</td>\n",
       "      <td>1</td>\n",
       "      <td>1</td>\n",
       "      <td>16777216</td>\n",
       "    </tr>\n",
       "    <tr>\n",
       "      <th>4</th>\n",
       "      <td>16777260</td>\n",
       "      <td>1</td>\n",
       "      <td>1</td>\n",
       "      <td>1</td>\n",
       "      <td>1</td>\n",
       "      <td>16777216</td>\n",
       "    </tr>\n",
       "    <tr>\n",
       "      <th>5</th>\n",
       "      <td>16777270</td>\n",
       "      <td>1</td>\n",
       "      <td>1</td>\n",
       "      <td>1</td>\n",
       "      <td>1</td>\n",
       "      <td>16777216</td>\n",
       "    </tr>\n",
       "    <tr>\n",
       "      <th>6</th>\n",
       "      <td>16777280</td>\n",
       "      <td>1</td>\n",
       "      <td>1</td>\n",
       "      <td>1</td>\n",
       "      <td>1</td>\n",
       "      <td>16777216</td>\n",
       "    </tr>\n",
       "    <tr>\n",
       "      <th>7</th>\n",
       "      <td>16777290</td>\n",
       "      <td>1</td>\n",
       "      <td>1</td>\n",
       "      <td>1</td>\n",
       "      <td>1</td>\n",
       "      <td>16777216</td>\n",
       "    </tr>\n",
       "    <tr>\n",
       "      <th>8</th>\n",
       "      <td>16777300</td>\n",
       "      <td>1</td>\n",
       "      <td>1</td>\n",
       "      <td>1</td>\n",
       "      <td>1</td>\n",
       "      <td>16777216</td>\n",
       "    </tr>\n",
       "    <tr>\n",
       "      <th>9</th>\n",
       "      <td>16777310</td>\n",
       "      <td>1</td>\n",
       "      <td>1</td>\n",
       "      <td>1</td>\n",
       "      <td>1</td>\n",
       "      <td>16777216</td>\n",
       "    </tr>\n",
       "  </tbody>\n",
       "</table>\n",
       "</div>"
      ],
      "text/plain": [
       "      ipint  survey_88  survey_89  survey_90  survey_91       /24\n",
       "0  16777220          1          1          1          1  16777216\n",
       "1  16777230          1          1          1          1  16777216\n",
       "2  16777240          1          1          1          1  16777216\n",
       "3  16777250          1          1          1          1  16777216\n",
       "4  16777260          1          1          1          1  16777216\n",
       "5  16777270          1          1          1          1  16777216\n",
       "6  16777280          1          1          1          1  16777216\n",
       "7  16777290          1          1          1          1  16777216\n",
       "8  16777300          1          1          1          1  16777216\n",
       "9  16777310          1          1          1          1  16777216"
      ]
     },
     "execution_count": 19,
     "metadata": {},
     "output_type": "execute_result"
    }
   ],
   "source": [
    "ant_merged_ddf.head(10)"
   ]
  },
  {
   "cell_type": "code",
   "execution_count": 20,
   "id": "a76b172d",
   "metadata": {},
   "outputs": [],
   "source": [
    "#files = get_files('/data1/manasvini/ant_intermediate_new/aeb_last4', 'parquet')\n",
    "#ant_merged_ddf = dd.read_parquet(files, blocksize='50MB')\n",
    "ant_merged_ddf['aeb'] = (ant_merged_ddf['survey_88'] + ant_merged_ddf['survey_89'] + ant_merged_ddf['survey_90'] + ant_merged_ddf['survey_91'])/4.0\n",
    "ant_merged_ddf['/24']  =  ant_merged_ddf.map_partitions(get_24_from_int)\n",
    "os.makedirs('/data1/manasvini/ant_intermediate_new/aeb', exist_ok=True)\n",
    "ant_merged_ddf[['ipint', 'aeb', '/24']].to_parquet('/data1/manasvini/ant_intermediate_new/aeb', overwrite=True, write_index=False, compression={\"name\": \"gzip\", \"values\": \"lz4\"})\n"
   ]
  },
  {
   "cell_type": "markdown",
   "id": "323820a5",
   "metadata": {},
   "source": [
    "## Save A(E(b)) computation for merged dataset"
   ]
  },
  {
   "cell_type": "code",
   "execution_count": 9,
   "id": "86e2679b",
   "metadata": {},
   "outputs": [
    {
     "name": "stdout",
     "output_type": "stream",
     "text": [
      "88\n",
      "Index(['ipint', 'survey_88'], dtype='object')\n",
      "ipint        820140651\n",
      "survey_88    820140651\n",
      "dtype: int64\n",
      "89\n",
      "Index(['ipint', 'survey_89'], dtype='object')\n",
      "ipint        820140651\n",
      "survey_89    820140651\n",
      "dtype: int64\n",
      "90\n",
      "Index(['ipint', 'survey_90'], dtype='object')\n",
      "ipint        820140651\n",
      "survey_90    820140651\n",
      "dtype: int64\n",
      "91\n",
      "Index(['ipint', 'survey_91'], dtype='object')\n",
      "ipint        820140651\n",
      "survey_91    820140651\n",
      "dtype: int64\n"
     ]
    }
   ],
   "source": [
    "merged_survey_ddfs = []\n",
    "for surveynum in range(88, 92):\n",
    "    surveystr = str(surveynum)   \n",
    "    print(surveynum)\n",
    "    merged_ddfs = []\n",
    "    for p in range(10):\n",
    "\n",
    "        files = get_files('/data1/manasvini/ant_censys_merged_new/ant_censys_merged_'+str(p) + '/' + 'survey_' + surveystr, 'parquet')\n",
    "        merged_ddf = dd.read_parquet(files, blocksize='50MB').repartition(partition_size='25MB')\n",
    "        merged_ddfs.append(merged_ddf)\n",
    "    merged_ddf = dd.concat(merged_ddfs)\n",
    "    print(merged_ddf.columns)\n",
    "    print(merged_ddf.count().compute())\n",
    "    if len(merged_survey_ddfs) == 0:\n",
    "        merged_survey_ddfs.append(merged_ddf)\n",
    "    else:\n",
    "        merged_survey_ddfs.append(merged_ddf['survey_'+surveystr].to_frame())\n",
    "    "
   ]
  },
  {
   "cell_type": "code",
   "execution_count": 10,
   "id": "b4348d1f",
   "metadata": {},
   "outputs": [],
   "source": [
    "ant_censys_merged_ddf = dd.concat(merged_survey_ddfs, axis=1, ignore_unknown_divisions=True)\n",
    "# ant_censys_merged_ddf.columns\n"
   ]
  },
  {
   "cell_type": "code",
   "execution_count": 11,
   "id": "a8170f95",
   "metadata": {},
   "outputs": [
    {
     "name": "stdout",
     "output_type": "stream",
     "text": [
      "4\n"
     ]
    }
   ],
   "source": [
    "print(len(merged_survey_ddfs))"
   ]
  },
  {
   "cell_type": "code",
   "execution_count": 12,
   "id": "2cfc9b23",
   "metadata": {},
   "outputs": [
    {
     "name": "stdout",
     "output_type": "stream",
     "text": [
      "ipint        820140651\n",
      "survey_88    820140651\n",
      "dtype: int64\n",
      "survey_89    820140651\n",
      "dtype: int64\n",
      "survey_90    820140651\n",
      "dtype: int64\n",
      "survey_91    820140651\n",
      "dtype: int64\n"
     ]
    }
   ],
   "source": [
    "for ddf in merged_survey_ddfs:\n",
    "    print(ddf.count().compute())"
   ]
  },
  {
   "cell_type": "code",
   "execution_count": 25,
   "id": "0bdfc272",
   "metadata": {},
   "outputs": [
    {
     "data": {
      "text/plain": [
       "Index(['ipint', 'survey_88', 'survey_89', 'survey_90', 'survey_91'], dtype='object')"
      ]
     },
     "execution_count": 25,
     "metadata": {},
     "output_type": "execute_result"
    }
   ],
   "source": [
    "ant_censys_merged_ddf.columns"
   ]
  },
  {
   "cell_type": "code",
   "execution_count": 26,
   "id": "9dae315a",
   "metadata": {},
   "outputs": [],
   "source": [
    "\n",
    "\n",
    "for c in ['survey_88', 'survey_89', 'survey_90', 'survey_91']:\n",
    "    ant_censys_merged_ddf[c] = ant_censys_merged_ddf[c].apply(lambda x: set_max_val(x), meta=(c, 'int64'))\n",
    "#ant_censys_merged_ddf['aeb'] = ant_censys_merged_ddf['survey_88'] + ant_censys_merged_ddf['survey_89'] + ant_censys_merged_ddf['survey_90'] + ant_censys_merged_ddf['survey_91']\n",
    "#ant_censys_merged_ddf[['ipint', 'aeb']].repartition(partition_size='10MB').to_parquet('/data1/manasvini/ant_censys_merged/aeb', overwrite=True, write_index=False)\n"
   ]
  },
  {
   "cell_type": "code",
   "execution_count": 27,
   "id": "88d0a39a",
   "metadata": {},
   "outputs": [
    {
     "data": {
      "text/plain": [
       "ipint        int64\n",
       "survey_88    int64\n",
       "survey_89    int64\n",
       "survey_90    int64\n",
       "survey_91    int64\n",
       "dtype: object"
      ]
     },
     "execution_count": 27,
     "metadata": {},
     "output_type": "execute_result"
    }
   ],
   "source": [
    "ant_censys_merged_ddf.dtypes"
   ]
  },
  {
   "cell_type": "code",
   "execution_count": 28,
   "id": "e751a615",
   "metadata": {},
   "outputs": [],
   "source": [
    "os.makedirs('/data1/manasvini/ant_censys_intermediate_new/aeb_last4', exist_ok=True)\n",
    "ant_censys_merged_ddf.to_parquet('/data1/manasvini/ant_censys_intermediate_new/aeb_last4',overwrite=True, write_index=False, compression={\"name\": \"gzip\", \"values\": \"lz4\"} )"
   ]
  },
  {
   "cell_type": "code",
   "execution_count": 29,
   "id": "50aff612",
   "metadata": {},
   "outputs": [],
   "source": [
    "files = get_files('/data1/manasvini/ant_censys_intermediate_new/aeb_last4', 'parquet')\n",
    "ant_censys_merged_ddf = dd.read_parquet(files, blocksize='20MB')"
   ]
  },
  {
   "cell_type": "code",
   "execution_count": 30,
   "id": "eba574ce",
   "metadata": {},
   "outputs": [
    {
     "data": {
      "text/plain": [
       "ipint        820140651\n",
       "survey_88    820140651\n",
       "survey_89    820140651\n",
       "survey_90    820140651\n",
       "survey_91    820140651\n",
       "dtype: int64"
      ]
     },
     "execution_count": 30,
     "metadata": {},
     "output_type": "execute_result"
    }
   ],
   "source": [
    "ant_censys_merged_ddf.count().compute()"
   ]
  },
  {
   "cell_type": "code",
   "execution_count": 31,
   "id": "4bf0cbb0",
   "metadata": {},
   "outputs": [],
   "source": [
    "files = get_files('/data1/manasvini/ant_censys_intermediate_new/aeb_last4', 'parquet')\n",
    "ant_censys_merged_ddf = dd.read_parquet(files, blocksize='50MB')\n",
    "ant_censys_merged_ddf['aeb'] = (ant_censys_merged_ddf['survey_88'] + ant_censys_merged_ddf['survey_89'] + ant_censys_merged_ddf['survey_90'] + ant_censys_merged_ddf['survey_91'])/4.0\n",
    "ant_censys_merged_ddf['/24']  =  ant_censys_merged_ddf.map_partitions(get_24_from_int)\n",
    "os.makedirs('/data1/manasvini/ant_censys_intermediate_new/aeb', exist_ok=True)\n",
    "ant_censys_merged_ddf[['ipint', 'aeb', '/24']].to_parquet('/data1/manasvini/ant_censys_merged_new/aeb', overwrite=True, write_index=False, compression={\"name\": \"gzip\", \"values\": \"lz4\"})\n"
   ]
  },
  {
   "cell_type": "markdown",
   "id": "83d8624b",
   "metadata": {},
   "source": [
    "## Save A(E(b)) for merged Censys (best) dataset"
   ]
  },
  {
   "cell_type": "code",
   "execution_count": 30,
   "id": "13f3e4ee",
   "metadata": {},
   "outputs": [
    {
     "name": "stdout",
     "output_type": "stream",
     "text": [
      "88\n",
      "89\n",
      "90\n",
      "91\n"
     ]
    }
   ],
   "source": [
    "merged_survey_ddfs = []\n",
    "for surveynum in range(88, 92):\n",
    "    surveystr = str(surveynum)   \n",
    "    print(surveynum)\n",
    "    merged_ddfs = []\n",
    "    for p in range(10):\n",
    "\n",
    "        files = get_files('/data1/manasvini/censys/proto/merged_survey_new_'+str(surveystr) + '/part_' + str(p) ,  'parquet')\n",
    "        merged_ddf = dd.read_parquet(files, blocksize='50MB').repartition(partition_size='25MB')\n",
    "        merged_ddfs.append(merged_ddf)\n",
    "    merged_ddf = dd.concat(merged_ddfs).set_index('ipint')\n",
    "    #print(merged_ddf.columns)\n",
    "    #print(merged_ddf.count().compute())\n",
    "    if len(merged_survey_ddfs) == 0:\n",
    "        merged_survey_ddfs.append(merged_ddf)\n",
    "    else:\n",
    "        merged_survey_ddfs.append(merged_ddf[['ant_survey_'+surveystr, 'combined_survey_'+surveystr]])\n",
    "    "
   ]
  },
  {
   "cell_type": "code",
   "execution_count": 36,
   "id": "7348faf1",
   "metadata": {},
   "outputs": [],
   "source": [
    "ant_censys_best_merged_ddf = dd.concat(merged_survey_ddfs, axis=1, ignore_unknown_divisions=True)\n"
   ]
  },
  {
   "cell_type": "code",
   "execution_count": 37,
   "id": "8c15c99f",
   "metadata": {},
   "outputs": [],
   "source": [
    "ant_censys_best_merged_ddf = ant_censys_best_merged_ddf.reset_index()"
   ]
  },
  {
   "cell_type": "code",
   "execution_count": 40,
   "id": "3a439c56",
   "metadata": {},
   "outputs": [
    {
     "data": {
      "text/html": [
       "<div><strong>Dask DataFrame Structure:</strong></div>\n",
       "<div>\n",
       "<style scoped>\n",
       "    .dataframe tbody tr th:only-of-type {\n",
       "        vertical-align: middle;\n",
       "    }\n",
       "\n",
       "    .dataframe tbody tr th {\n",
       "        vertical-align: top;\n",
       "    }\n",
       "\n",
       "    .dataframe thead th {\n",
       "        text-align: right;\n",
       "    }\n",
       "</style>\n",
       "<table border=\"1\" class=\"dataframe\">\n",
       "  <thead>\n",
       "    <tr style=\"text-align: right;\">\n",
       "      <th></th>\n",
       "      <th>ipint</th>\n",
       "      <th>ant_survey_88</th>\n",
       "      <th>combined_survey_88</th>\n",
       "      <th>ant_survey_89</th>\n",
       "      <th>combined_survey_89</th>\n",
       "      <th>ant_survey_90</th>\n",
       "      <th>combined_survey_90</th>\n",
       "      <th>ant_survey_91</th>\n",
       "      <th>combined_survey_91</th>\n",
       "    </tr>\n",
       "    <tr>\n",
       "      <th>npartitions=2955</th>\n",
       "      <th></th>\n",
       "      <th></th>\n",
       "      <th></th>\n",
       "      <th></th>\n",
       "      <th></th>\n",
       "      <th></th>\n",
       "      <th></th>\n",
       "      <th></th>\n",
       "      <th></th>\n",
       "    </tr>\n",
       "  </thead>\n",
       "  <tbody>\n",
       "    <tr>\n",
       "      <th></th>\n",
       "      <td>int64</td>\n",
       "      <td>float64</td>\n",
       "      <td>int64</td>\n",
       "      <td>float64</td>\n",
       "      <td>int64</td>\n",
       "      <td>float64</td>\n",
       "      <td>int64</td>\n",
       "      <td>float64</td>\n",
       "      <td>int64</td>\n",
       "    </tr>\n",
       "    <tr>\n",
       "      <th></th>\n",
       "      <td>...</td>\n",
       "      <td>...</td>\n",
       "      <td>...</td>\n",
       "      <td>...</td>\n",
       "      <td>...</td>\n",
       "      <td>...</td>\n",
       "      <td>...</td>\n",
       "      <td>...</td>\n",
       "      <td>...</td>\n",
       "    </tr>\n",
       "    <tr>\n",
       "      <th>...</th>\n",
       "      <td>...</td>\n",
       "      <td>...</td>\n",
       "      <td>...</td>\n",
       "      <td>...</td>\n",
       "      <td>...</td>\n",
       "      <td>...</td>\n",
       "      <td>...</td>\n",
       "      <td>...</td>\n",
       "      <td>...</td>\n",
       "    </tr>\n",
       "    <tr>\n",
       "      <th></th>\n",
       "      <td>...</td>\n",
       "      <td>...</td>\n",
       "      <td>...</td>\n",
       "      <td>...</td>\n",
       "      <td>...</td>\n",
       "      <td>...</td>\n",
       "      <td>...</td>\n",
       "      <td>...</td>\n",
       "      <td>...</td>\n",
       "    </tr>\n",
       "    <tr>\n",
       "      <th></th>\n",
       "      <td>...</td>\n",
       "      <td>...</td>\n",
       "      <td>...</td>\n",
       "      <td>...</td>\n",
       "      <td>...</td>\n",
       "      <td>...</td>\n",
       "      <td>...</td>\n",
       "      <td>...</td>\n",
       "      <td>...</td>\n",
       "    </tr>\n",
       "  </tbody>\n",
       "</table>\n",
       "</div>\n",
       "<div>Dask Name: reset_index, 269132 tasks</div>"
      ],
      "text/plain": [
       "Dask DataFrame Structure:\n",
       "                  ipint ant_survey_88 combined_survey_88 ant_survey_89 combined_survey_89 ant_survey_90 combined_survey_90 ant_survey_91 combined_survey_91\n",
       "npartitions=2955                                                                                                                                           \n",
       "                  int64       float64              int64       float64              int64       float64              int64       float64              int64\n",
       "                    ...           ...                ...           ...                ...           ...                ...           ...                ...\n",
       "...                 ...           ...                ...           ...                ...           ...                ...           ...                ...\n",
       "                    ...           ...                ...           ...                ...           ...                ...           ...                ...\n",
       "                    ...           ...                ...           ...                ...           ...                ...           ...                ...\n",
       "Dask Name: reset_index, 269132 tasks"
      ]
     },
     "execution_count": 40,
     "metadata": {},
     "output_type": "execute_result"
    }
   ],
   "source": [
    "ant_censys_best_merged_ddf"
   ]
  },
  {
   "cell_type": "code",
   "execution_count": 41,
   "id": "3032ad0a",
   "metadata": {},
   "outputs": [],
   "source": [
    "ant_censys_best_merged_ddf['/24']  =  ant_censys_best_merged_ddf.map_partitions(get_24_from_int)"
   ]
  },
  {
   "cell_type": "code",
   "execution_count": 43,
   "id": "45a0c6f4",
   "metadata": {},
   "outputs": [],
   "source": [
    "ant_censys_best_merged_ddf['aeb_combined'] = (ant_censys_best_merged_ddf['combined_survey_88'] + ant_censys_best_merged_ddf['combined_survey_89'] + ant_censys_best_merged_ddf['combined_survey_90'] + ant_censys_best_merged_ddf['combined_survey_91'])/4.0\n",
    "ant_censys_best_merged_ddf['aeb_ant'] = (ant_censys_best_merged_ddf['ant_survey_88'] + ant_censys_best_merged_ddf['ant_survey_89'] + ant_censys_best_merged_ddf['ant_survey_90'] + ant_censys_best_merged_ddf['ant_survey_91'])/4.0\n",
    "\n",
    "os.makedirs('/data1/manasvini/censys/proto/aeb', exist_ok=True)\n",
    "ant_censys_best_merged_ddf[['ipint', 'aeb_ant', 'aeb_combined', '/24']].to_parquet('/data1/manasvini/censys/proto/aeb', overwrite=True, write_index=False, compression={\"name\": \"gzip\", \"values\": \"lz4\"})\n"
   ]
  },
  {
   "cell_type": "code",
   "execution_count": 44,
   "id": "4f8986ab",
   "metadata": {},
   "outputs": [
    {
     "name": "stderr",
     "output_type": "stream",
     "text": [
      "distributed.nanny - WARNING - Worker process still alive after 3 seconds, killing\n",
      "distributed.nanny - WARNING - Worker process still alive after 3 seconds, killing\n",
      "distributed.nanny - WARNING - Worker process still alive after 3 seconds, killing\n",
      "distributed.nanny - WARNING - Worker process still alive after 3 seconds, killing\n",
      "distributed.client - ERROR - Failed to reconnect to scheduler after 10.00 seconds, closing client\n",
      "_GatheringFuture exception was never retrieved\n",
      "future: <_GatheringFuture finished exception=CancelledError()>\n",
      "concurrent.futures._base.CancelledError\n"
     ]
    }
   ],
   "source": [
    "client.shutdown()"
   ]
  },
  {
   "cell_type": "code",
   "execution_count": null,
   "id": "51a9e29e",
   "metadata": {},
   "outputs": [],
   "source": []
  }
 ],
 "metadata": {
  "kernelspec": {
   "display_name": "Python 3",
   "language": "python",
   "name": "python3"
  },
  "language_info": {
   "codemirror_mode": {
    "name": "ipython",
    "version": 3
   },
   "file_extension": ".py",
   "mimetype": "text/x-python",
   "name": "python",
   "nbconvert_exporter": "python",
   "pygments_lexer": "ipython3",
   "version": "3.6.9"
  }
 },
 "nbformat": 4,
 "nbformat_minor": 5
}
