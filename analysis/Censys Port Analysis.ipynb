{
 "cells": [
  {
   "cell_type": "code",
   "execution_count": 2,
   "id": "33925f36",
   "metadata": {},
   "outputs": [],
   "source": [
    "import geopandas as gpd\n",
    "import pandas as pd\n",
    "import os\n",
    "import matplotlib.pyplot as plt\n",
    "plt.rcParams[\"font.family\"] = \"Serif\"\n",
    "import pyipmeta as ipm\n",
    "import requests\n",
    "import wget\n",
    "import shutil\n",
    "import gzip\n",
    "import json\n",
    "\n",
    "from sklearn.linear_model import LinearRegression\n",
    "import numpy as np\n",
    "\n",
    "import geoplot.crs as gcrs\n",
    "import geoplot\n",
    "import os\n",
    "from datetime import datetime\n",
    "import socket \n",
    "import sys\n",
    "import netaddr"
   ]
  },
  {
   "cell_type": "code",
   "execution_count": 3,
   "id": "550e183b",
   "metadata": {},
   "outputs": [],
   "source": [
    "\n",
    "\n",
    "import dask.dataframe as dd\n",
    "import matplotlib.pyplot as plt\n",
    "import matplotlib.dates as mdates\n",
    "import pandas as pd\n",
    "import json\n",
    "from dask.distributed import Client, LocalCluster\n"
   ]
  },
  {
   "cell_type": "code",
   "execution_count": 179,
   "id": "412bda1b",
   "metadata": {},
   "outputs": [
    {
     "data": {
      "text/plain": [
       "'http://127.0.0.1:37940/status'"
      ]
     },
     "execution_count": 179,
     "metadata": {},
     "output_type": "execute_result"
    }
   ],
   "source": [
    "cluster = LocalCluster(n_workers=8, threads_per_worker=1, dashboard_address=':37940')  # Launches a scheduler and workers locally\n",
    "client = Client(cluster) \n",
    "cluster.dashboard_link"
   ]
  },
  {
   "cell_type": "code",
   "execution_count": 5,
   "id": "c4736330",
   "metadata": {},
   "outputs": [],
   "source": [
    "\n",
    "meta = ipm.IpMeta(providers=[\"pfx2as -f \" + 'pfx_to_as/routeviews-rv2-20220920-1200.txt'])\n",
    "rir_df = pd.read_csv('/data1/manasvini/rir.csv')"
   ]
  },
  {
   "cell_type": "code",
   "execution_count": 7,
   "id": "44f8cb97",
   "metadata": {},
   "outputs": [],
   "source": [
    "def get_files_no_pfx(dirname):\n",
    "    \n",
    "    files = [os.path.join(dirname, f) for f in os.listdir(dirname) if 'processed' not in f]\n",
    "    return files\n",
    "\n",
    "def get_24_from_int(df):\n",
    "    return df['ipint'].apply(lambda x: ip2int(int2ip24(x)))\n",
    "\n",
    "def get_24(df):\n",
    "    return df['ip'].apply(lambda x: '.'.join(x.split('.')[0:3]) + '.0')\n",
    "\n",
    "def get_int_from_ip(df):\n",
    "    return df['ip'].apply(lambda x: ip2int(x))\n",
    "\n",
    "def int2ip24(x):\n",
    "    ip =  str(netaddr.IPAddress(int(x)))\n",
    "    return '.'.join(ip.split('.')[0:3]) + '.0'\n",
    "def ip2int(x):\n",
    "    return netaddr.IPAddress(x).value\n",
    "\n",
    "def int2ip(x):\n",
    "    return str(netaddr.IPAddress(int(x)))"
   ]
  },
  {
   "cell_type": "markdown",
   "id": "d6fad9d8",
   "metadata": {},
   "source": [
    "## Sparsity Analysis  \n",
    "- For the last snapshot, compute the number of blocks vs the number of hosts per block when using the two port startegies:  \n",
    "    - ANY: select host if it responds to any probe  \n",
    "    - BEST: select host if it responds to the probe that had the best chance of succeeding"
   ]
  },
  {
   "cell_type": "code",
   "execution_count": 8,
   "id": "4e840319",
   "metadata": {},
   "outputs": [],
   "source": [
    "## Load Censys \n",
    "censys_survey91_ddfs = []\n",
    "for i in range(10):\n",
    "    censys_survey_part_ddf = dd.read_parquet(get_files_no_pfx('/data1/manasvini/censys/proto/best_survey_new_91/part_'+str(i)),  block_size='10MB')\n",
    "    censys_survey91_ddfs.append(censys_survey_part_ddf)\n",
    "\n",
    "censys_ddf = dd.concat(censys_survey91_ddfs)\n",
    "censys_survey91_ddf = censys_ddf.rename(columns={'best_proto_ct':'survey_91'})"
   ]
  },
  {
   "cell_type": "code",
   "execution_count": 9,
   "id": "21a29c2b",
   "metadata": {},
   "outputs": [],
   "source": [
    "censys_survey91_ddf['/24'] = censys_survey91_ddf.map_partitions(get_24_from_int)\n",
    "#censys_24s = censys_survey91_ddf.groupby('/24')['ipint'].count().compute().reset_index()"
   ]
  },
  {
   "cell_type": "code",
   "execution_count": 17,
   "id": "7f2cbf3e",
   "metadata": {},
   "outputs": [],
   "source": [
    "## Load ANT\n",
    "dirname = '/data1/manasvini/internet_address_history_it101w-20221101/last10withipint/everalive'\n",
    "\n",
    "files = list(set(get_files_no_pfx(dirname)))\n",
    "\n",
    "ant_ddf = dd.read_parquet(files, blocksize='200MB')\n",
    "ant_survey91_ddf = ant_ddf[['ipint', 'survey_91']]"
   ]
  },
  {
   "cell_type": "code",
   "execution_count": null,
   "id": "ca1d6a6c",
   "metadata": {},
   "outputs": [],
   "source": [
    "## Merged ANT and Censys  \n",
    "## Load Censys \n",
    "merged_survey91_ddfs = []\n",
    "for i in range(10):\n",
    "    merged_survey_part_ddf = dd.read_parquet(get_files_no_pfx('/data1/manasvini/censys/proto/merged_survey_new_91/part_'+str(i)),  block_size='10MB')\n",
    "    merged_survey91_ddfs.append(merged_survey_part_ddf)"
   ]
  },
  {
   "cell_type": "code",
   "execution_count": null,
   "id": "d423e476",
   "metadata": {},
   "outputs": [],
   "source": [
    "merged_ddf = dd.concat(merged_survey91_ddfs)\n",
    "\n",
    "merged_ddf = merged_ddf.rename(columns={'best_proto_ct':'survey_91'})\n",
    "merged_ddf['/24'] = merged_ddf.map_partitions(get_24_from_int)"
   ]
  },
  {
   "cell_type": "code",
   "execution_count": 16,
   "id": "92efb8fa",
   "metadata": {},
   "outputs": [
    {
     "name": "stderr",
     "output_type": "stream",
     "text": [
      "distributed.nanny - WARNING - Restarting worker\n",
      "distributed.nanny - WARNING - Restarting worker\n",
      "distributed.nanny - WARNING - Restarting worker\n",
      "distributed.nanny - WARNING - Restarting worker\n",
      "distributed.nanny - WARNING - Restarting worker\n",
      "distributed.nanny - WARNING - Restarting worker\n",
      "distributed.nanny - WARNING - Restarting worker\n"
     ]
    }
   ],
   "source": [
    "# Merge ANT with censys-best\n",
    "merged_survey91_df = merged_ddf.groupby('/24')[['ant_survey_91','combined_survey_91']].sum().reset_index().compute()\n",
    "#ant_survey91_df = merged_ddf.groupby('/24')['ant_survey_91'].sum().reset_index().compute()\n",
    "merged_survey91_df = merged_survey91_df.reset_index()\n",
    "#ant_survey91_df = ant_survey91_df.reset_index()"
   ]
  },
  {
   "cell_type": "code",
   "execution_count": 18,
   "id": "4b16e718",
   "metadata": {},
   "outputs": [],
   "source": [
    "## Find ANT only host count\n",
    "ant_survey91_ddf = ant_ddf[['ipint', 'survey_91', '/24']]\n",
    "\n",
    "ant_survey91_df = ant_survey91_ddf.groupby('/24')['survey_91'].sum().reset_index().compute()\n",
    "ant_survey91_df['/24'] = ant_survey91_df['/24'].astype(str).apply(lambda x: ip2int(x))"
   ]
  },
  {
   "cell_type": "code",
   "execution_count": 24,
   "id": "b9af6be5",
   "metadata": {},
   "outputs": [],
   "source": [
    "## For the blocks found in ANT, find number of hosts per block\n",
    "mergedsurvey_filtered_df = merged_survey91_df.merge(ant_survey91_df, how='inner', on='/24')\n",
    "mergedsurvey_filtered_df.rename(columns={'response_final':'merged', 'survey_91':'ant'}, inplace=True)"
   ]
  },
  {
   "cell_type": "code",
   "execution_count": 119,
   "id": "fa9de21f",
   "metadata": {},
   "outputs": [],
   "source": [
    "COLORS = ['#0f4d5c','#846aa5', '#ff837a']"
   ]
  },
  {
   "cell_type": "code",
   "execution_count": 20,
   "id": "3c458ab4",
   "metadata": {},
   "outputs": [],
   "source": [
    "def plot_cdf(df, col, ax, color):\n",
    "    cdf_df = df.groupby(col)['/24'].count().reset_index()\n",
    "    cdf_df['cumsum'] = cdf_df['/24'].cumsum()\n",
    "    cdf_df.plot.line(x=col, y='cumsum', ax=ax, color=color, grid=True, lw=2)\n",
    "    return ax"
   ]
  },
  {
   "cell_type": "code",
   "execution_count": 21,
   "id": "3a9806e9",
   "metadata": {},
   "outputs": [
    {
     "name": "stdout",
     "output_type": "stream",
     "text": [
      "0\n",
      "1\n",
      "2\n",
      "3\n",
      "4\n",
      "5\n",
      "6\n",
      "7\n",
      "8\n",
      "9\n",
      "Index(['ipint', 'survey_91', '/24'], dtype='object')\n"
     ]
    }
   ],
   "source": [
    "## Compare Censys ANY vs BEST\n",
    "merged_any_dfs = []\n",
    "for p in range(10):\n",
    "    print(p)\n",
    "    files = get_files_no_pfx('/data1/manasvini/ant_censys_merged_new/ant_censys_merged_'+str(p) + '/' + 'survey_91' )\n",
    "    merged_any_ddf = dd.read_parquet(files, blocksize='50MB').repartition(partition_size='25MB')\n",
    "    merged_any_dfs.append(merged_any_ddf)\n",
    "\n",
    "merged_any_ddf = dd.concat(merged_any_dfs)\n",
    "merged_any_ddf['/24'] = merged_any_ddf.map_partitions(get_24_from_int)\n",
    "merged_any_blk_df = merged_any_ddf.groupby('/24')['survey_91'].sum().reset_index().compute()\n",
    "merged_any_ant_blk_df = merged_any_blk_df.merge(ant_survey91_df, how='inner', on='/24')\n",
    "merged_any_ant_blk_df.rename(columns={'survey_91_x':'merged', 'survey_91_y':'ant'}, inplace=True)\n",
    "print(merged_any_ddf.columns)"
   ]
  },
  {
   "cell_type": "code",
   "execution_count": 109,
   "id": "36910550",
   "metadata": {},
   "outputs": [],
   "source": [
    "ant_sparse = ant_survey91_df[ant_survey91_df['survey_91']<15]['/24'].tolist()"
   ]
  },
  {
   "cell_type": "code",
   "execution_count": 94,
   "id": "a1f5f934",
   "metadata": {},
   "outputs": [
    {
     "data": {
      "image/png": "[encoded data removed]",
      "text/plain": [
       "<Figure size 288x288 with 1 Axes>"
      ]
     },
     "metadata": {
      "needs_background": "light"
     },
     "output_type": "display_data"
    }
   ],
   "source": [
    "fig, ax = plt.subplots(figsize=(4,4))\n",
    "ax = plot_cdf(mergedsurvey_filtered_df, 'merged', ax, COLORS[0])\n",
    "ax = plot_cdf(mergedsurvey_filtered_df, 'ant', ax, COLORS[1])\n",
    "ax = plot_cdf(merged_any_ant_blk_df, 'merged', ax, COLORS[2])\n",
    "ax.legend(['combined/best', 'ANT', 'combined/any'], fontsize=15)\n",
    "ax.set_xlabel('# of hosts', fontsize=20)\n",
    "ax.set_ylabel('# of /24 blocks', fontsize=20)\n",
    "plt.axvline(x=15, c='r', ls='--')\n",
    "ax.tick_params(axis='both', which='major', labelsize=20, rotation=0)\n",
    "plt.savefig('figs_pam/sparse_survey_91.png', bbox_inches='tight')\n",
    "plt.savefig('figs_pam/sparse_survey_91.pdf', bbox_inches='tight')\n"
   ]
  },
  {
   "cell_type": "code",
   "execution_count": 299,
   "id": "d8416fec",
   "metadata": {},
   "outputs": [],
   "source": [
    "def asn_dask(x):    \n",
    "    \n",
    "    #print(x)\n",
    "    asninfo = meta.lookup(x)\n",
    "    #print(asninfo)\n",
    "    if len(asninfo) == 1:\n",
    "        return ','.join([str(asn) for asn in asninfo[0]['asns']])\n",
    "    elif len(asninfo) == 0:\n",
    "        return ''\n",
    "    else:\n",
    "        return ','.join([asninfo[i]['asns'] for i in range(len(asninfo))])"
   ]
  },
  {
   "cell_type": "code",
   "execution_count": 23,
   "id": "5103d4bc",
   "metadata": {},
   "outputs": [],
   "source": [
    "merged_any_ant_blk_df['/24_str'] = merged_any_ant_blk_df['/24'].apply(lambda x: int2ip24(x))\n",
    "\n",
    "merged_any_ant_blk_df['asn'] = merged_any_ant_blk_df['/24_str'].astype(str).apply(lambda x:asn_dask(x))"
   ]
  },
  {
   "cell_type": "code",
   "execution_count": 25,
   "id": "258234f8",
   "metadata": {},
   "outputs": [],
   "source": [
    "mergedsurvey_filtered_df['/24_str'] = mergedsurvey_filtered_df['/24'].apply(lambda x: int2ip24(x))\n",
    "\n",
    "mergedsurvey_filtered_df['asn'] = mergedsurvey_filtered_df['/24_str'].astype(str).apply(lambda x:asn_dask(x))"
   ]
  },
  {
   "cell_type": "code",
   "execution_count": 28,
   "id": "2eae3141",
   "metadata": {},
   "outputs": [],
   "source": [
    "ant_survey91_df['/24_str'] = ant_survey91_df['/24'].apply(lambda x: int2ip24(x))\n",
    "\n",
    "ant_survey91_df['asn'] = ant_survey91_df['/24_str'].astype(str).apply(lambda x:asn_dask(x))"
   ]
  },
  {
   "cell_type": "code",
   "execution_count": 83,
   "id": "b18ac60f",
   "metadata": {},
   "outputs": [],
   "source": [
    "ant_sparse_blks = [ant_survey91_df['survey_91']<15]['/24'].tolist()"
   ]
  },
  {
   "cell_type": "code",
   "execution_count": null,
   "id": "cda03426",
   "metadata": {},
   "outputs": [],
   "source": [
    "#ANT non sparse blocks within an AS\n",
    "ant_survey91_asn_df = ant_survey91_df.groupby('asn')['/24'].count().reset_index()\n",
    "ant_survey91_nonsparse_asn_df = ant_survey91_df[ant_survey91_df['survey_91']>=15].groupby('asn')['/24'].count().reset_index()"
   ]
  },
  {
   "cell_type": "code",
   "execution_count": 216,
   "id": "003bec35",
   "metadata": {},
   "outputs": [],
   "source": [
    "# ANT calculate fraction of non sparse blocks per AS\n",
    "ant_asn_df = ant_survey91_asn_df.merge(ant_survey91_nonsparse_asn_df, on='asn', how='left').fillna(0)\n",
    "ant_asn_df.rename(columns={'/24_x':'/24_all', '/24_y':'/24_nonsparse'}, inplace=True)\n",
    "ant_asn_df['frac_nonsparse'] = ant_asn_df['/24_nonsparse'] / ant_asn_df['/24_all']"
   ]
  },
  {
   "cell_type": "code",
   "execution_count": 30,
   "id": "e6fdb140",
   "metadata": {},
   "outputs": [],
   "source": [
    "censys_ddf['/24'] = censys_ddf.map_partitions(get_24_from_int)"
   ]
  },
  {
   "cell_type": "code",
   "execution_count": 33,
   "id": "369a02fb",
   "metadata": {},
   "outputs": [],
   "source": [
    "# Fraction of non sparse blocks in ANT + Censys-best per AS\n",
    "mergedsurvey_asn_df = mergedsurvey_filtered_df.groupby('asn')['/24'].count().reset_index()\n",
    "mergedsurvey_nonsparse_asn_df = mergedsurvey_filtered_df[mergedsurvey_filtered_df['combined_survey_91']>=15].groupby('asn')['/24'].count().reset_index()\n",
    "mergedsurvey_asn_df = mergedsurvey_asn_df.merge(mergedsurvey_nonsparse_asn_df, on='asn', how='left').fillna(0)\n",
    "mergedsurvey_asn_df.rename(columns={'/24_x':'/24_all', '/24_y':'/24_nonsparse'}, inplace=True)\n",
    "mergedsurvey_asn_df['frac_nonsparse'] = mergedsurvey_asn_df['/24_nonsparse'] / mergedsurvey_asn_df['/24_all']"
   ]
  },
  {
   "cell_type": "code",
   "execution_count": 300,
   "id": "a64a0867",
   "metadata": {},
   "outputs": [],
   "source": [
    "merged_survey91_df['/24_str'] = merged_survey91_df['/24'].apply(lambda x: int2ip(x))\n",
    "merged_survey91_df['asn'] = merged_survey91_df['/24_str'].apply(lambda x: asn_dask(x))\n"
   ]
  },
  {
   "cell_type": "code",
   "execution_count": 117,
   "id": "59fef146",
   "metadata": {},
   "outputs": [],
   "source": [
    "merged_any_asn_df = merged_any_ant_blk_df.groupby('asn')['/24'].count().reset_index()\n",
    "merged_any_nonsparse_asn_df = merged_any_ant_blk_df[merged_any_ant_blk_df['merged']>=15].groupby('asn')['/24'].count().reset_index()\n",
    "merged_any_asn_df = merged_any_asn_df.merge(merged_any_nonsparse_asn_df, on='asn', how='left').fillna(0)\n",
    "merged_any_asn_df.rename(columns={'/24_x':'/24_all', '/24_y':'/24_nonsparse'}, inplace=True)\n",
    "merged_any_asn_df['frac_nonsparse'] = merged_any_asn_df['/24_nonsparse'] / merged_any_asn_df['/24_all']"
   ]
  },
  {
   "cell_type": "code",
   "execution_count": 146,
   "id": "a7463a97",
   "metadata": {},
   "outputs": [],
   "source": [
    "def plot_asn_cdf(df, color, ax):\n",
    "    cdf_df = df[df['asn']!=''].groupby(['frac_nonsparse'])['asn'].count().reset_index()\n",
    "    cdf_df['cumsum'] = cdf_df['asn'].cumsum()\n",
    "    cdf_df['cumfrac'] = cdf_df['cumsum'] / cdf_df['cumsum'].max()\n",
    "    cdf_df['cumsum_k'] = cdf_df['cumsum'] / 1000\n",
    "    \n",
    "    cdf_df.plot.line(x='frac_nonsparse', y='cumsum_k', ax=ax, color=color, lw=2, grid=True)\n",
    "    return ax"
   ]
  },
  {
   "cell_type": "code",
   "execution_count": 178,
   "id": "1b63d30d",
   "metadata": {},
   "outputs": [
    {
     "name": "stdout",
     "output_type": "stream",
     "text": [
      "[10. 20. 30. 40. 50. 60. 70. 80.] [Text(0, 0, ''), Text(0, 0, ''), Text(0, 0, ''), Text(0, 0, ''), Text(0, 0, ''), Text(0, 0, ''), Text(0, 0, ''), Text(0, 0, '')]\n"
     ]
    },
    {
     "data": {
      "image/png": "[encoded data removed]",
      "text/plain": [
       "<Figure size 432x432 with 1 Axes>"
      ]
     },
     "metadata": {
      "needs_background": "light"
     },
     "output_type": "display_data"
    }
   ],
   "source": [
    "fig, ax = plt.subplots(figsize=(6,6))\n",
    "ax = plot_asn_cdf(mergedsurvey_asn_df, COLORS[0], ax)\n",
    "ax = plot_asn_cdf(ant_asn_df, COLORS[1], ax)\n",
    "ax = plot_asn_cdf(merged_any_asn_df,  COLORS[2], ax)\n",
    "ax.legend(['combined(Censys-best)', 'ANT', 'combined(Censys-any)'], fontsize=18)\n",
    "ax.set_xlabel('Fraction of /24s', fontsize=20)\n",
    "ax.set_ylabel('# of ASNs', fontsize=20)\n",
    "#plt.axvline(x=15, c='r', ls='--')\n",
    "a=ax.get_xticks().tolist()\n",
    "labels, locations = plt.yticks()\n",
    "print(labels, locations)\n",
    "plt.yticks(labels, ['10k', '20k', '30k', '40k', '50k', '60k', '70k', '80k'])\n",
    "#plt.yticks([0,1,2,3,4,5, 6], ['20k', '30k', '40k', '50k', '60k', '70k', '80k'],rotation=0) \n",
    "ax.tick_params(axis='both', which='major', labelsize=18, rotation=0)\n",
    "#plt.savefig('figs_pam/sparse_survey_91.png', bbox_inches='tight')\n",
    "plt.savefig('figs_pam/sparse_survey_91.pdf', bbox_inches='tight')\n"
   ]
  },
  {
   "cell_type": "code",
   "execution_count": 47,
   "id": "75289b7f",
   "metadata": {},
   "outputs": [],
   "source": [
    "#load censys-any\n",
    "files = get_files_no_pfx('/data1/manasvini/censys_address_history_new/')\n",
    "censys_any_ddf = dd.read_parquet(files, blocksize='20MB').repartition(partition_size='10MB')"
   ]
  },
  {
   "cell_type": "code",
   "execution_count": 48,
   "id": "e92e6c1b",
   "metadata": {},
   "outputs": [],
   "source": [
    "censys_cols = ['censys_survey_'+ str(i) for i in range(91,92)]\n",
    "blks_ip_censys_ct_df = censys_any_ddf.groupby('/24')['censys_survey_91'].sum().compute().reset_index()\n",
    "\n",
    "censys_blk_recent_df = blks_ip_censys_ct_df[['/24', 'censys_survey_91']]\n",
    "censys_blk_recent_df['/24_str'] = censys_blk_recent_df['/24'].apply(lambda x:int2ip(x))"
   ]
  },
  {
   "cell_type": "code",
   "execution_count": 106,
   "id": "97d3c60f",
   "metadata": {},
   "outputs": [],
   "source": [
    "ant_survey91_df['/24_str']  = ant_survey91_df['/24'].apply(lambda x:int2ip(x))"
   ]
  },
  {
   "cell_type": "code",
   "execution_count": 49,
   "id": "6d996667",
   "metadata": {},
   "outputs": [],
   "source": [
    "# Censys-any get non sparse blocks in an AS\n",
    "censys_blk_recent_df['asn'] =  censys_blk_recent_df['/24_str'].astype(str).apply(lambda x:asn_dask(x))\n",
    "censys_sparse_as_df = censys_blk_recent_df[(censys_blk_recent_df['censys_survey_91']>=15)&(~censys_blk_recent_df['/24_str'].isin(ant_survey91_df['/24_str'].tolist()))].groupby('asn')['/24_str'].count().reset_index()\n",
    "censys_total_as_df = censys_blk_recent_df[~censys_blk_recent_df['/24_str'].isin(ant_survey91_df['/24_str'].tolist())].groupby('asn')['/24_str'].count().reset_index()\n",
    "censys_sparse_as_df.rename(columns={'/24_str':'sparse_/24_str'}, inplace=True)\n",
    "censys_sparse_as_df = censys_sparse_as_df.merge(censys_total_as_df, on='asn', how='inner')\n",
    "\n"
   ]
  },
  {
   "cell_type": "code",
   "execution_count": 50,
   "id": "e551623c",
   "metadata": {},
   "outputs": [],
   "source": [
    "censys_best_blk_df = censys_ddf.groupby('/24')['survey_91'].sum().compute().reset_index()\n",
    "censys_best_blk_df['/24_str'] = censys_best_blk_df['/24'].apply(lambda x:int2ip(x))\n",
    "\n",
    "censys_best_blk_df['asn'] =  censys_best_blk_df['/24_str'].astype(str).apply(lambda x:asn_dask(x))"
   ]
  },
  {
   "cell_type": "code",
   "execution_count": 51,
   "id": "e392ca43",
   "metadata": {},
   "outputs": [],
   "source": [
    "censys_best_sparse_as_df = censys_best_blk_df[(censys_best_blk_df['survey_91']>=15)&(~censys_best_blk_df['/24_str'].isin(ant_survey91_df['/24_str'].tolist()))].groupby('asn')['/24_str'].count().reset_index()\n",
    "censys_best_total_as_df = censys_best_blk_df[~censys_best_blk_df['/24_str'].isin(ant_survey91_df['/24_str'].tolist())].groupby('asn')['/24_str'].count().reset_index()\n",
    "censys_best_sparse_as_df.rename(columns={'/24_str':'sparse_/24_str'}, inplace=True)\n",
    "censys_best_sparse_as_df = censys_best_sparse_as_df.merge(censys_best_total_as_df, on='asn', how='inner')"
   ]
  },
  {
   "cell_type": "code",
   "execution_count": 191,
   "id": "2046bb2c",
   "metadata": {},
   "outputs": [
    {
     "name": "stderr",
     "output_type": "stream",
     "text": [
      "/home/msethuraman3/censys-ant/.venv/lib/python3.6/site-packages/ipykernel_launcher.py:2: SettingWithCopyWarning: \n",
      "A value is trying to be set on a copy of a slice from a DataFrame.\n",
      "Try using .loc[row_indexer,col_indexer] = value instead\n",
      "\n",
      "See the caveats in the documentation: https://pandas.pydata.org/pandas-docs/stable/user_guide/indexing.html#returning-a-view-versus-a-copy\n",
      "  \n"
     ]
    }
   ],
   "source": [
    "censys_best_asns_df = censys_best_sparse_as_df[censys_best_sparse_as_df['asn']!='']\n",
    "censys_best_asns_df['ASN'] = 'AS' + censys_best_asns_df['asn']"
   ]
  },
  {
   "cell_type": "code",
   "execution_count": 203,
   "id": "9fb2a4b2",
   "metadata": {},
   "outputs": [],
   "source": [
    "mergedsurvey_asn_df_filtered = mergedsurvey_asn_df[(~mergedsurvey_asn_df['asn'].str.contains(','))&(mergedsurvey_asn_df['asn']!='')]\n",
    "mergedsurvey_asn_df_filtered['asn'] = mergedsurvey_asn_df_filtered['asn'].astype(int)"
   ]
  },
  {
   "cell_type": "code",
   "execution_count": 217,
   "id": "f9275eb2",
   "metadata": {},
   "outputs": [],
   "source": [
    "ant_asn_df_filtered = ant_asn_df[(~ant_asn_df['asn'].str.contains(','))&(ant_asn_df['asn']!='')]\n",
    "ant_asn_df_filtered['asn'] = ant_asn_df_filtered['asn'].astype(int)"
   ]
  },
  {
   "cell_type": "code",
   "execution_count": 302,
   "id": "ecfe5ca0",
   "metadata": {},
   "outputs": [],
   "source": [
    "merged_survey91_df = merged_survey91_df[(~merged_survey91_df['asn'].str.contains(','))&(merged_survey91_df['asn']!='')]"
   ]
  },
  {
   "cell_type": "code",
   "execution_count": 308,
   "id": "9255d176",
   "metadata": {},
   "outputs": [],
   "source": [
    "merged_survey91_asn_df = merged_survey91_df[merged_survey91_df['combined_survey_91']>=15].groupby(['asn'])['/24'].count().reset_index()"
   ]
  },
  {
   "cell_type": "code",
   "execution_count": 314,
   "id": "a982ee10",
   "metadata": {},
   "outputs": [],
   "source": [
    "#ant_survey91_df['/24_str'] = ant_survey91_df['/24'].apply(lambda x:int2ip(x))\n",
    "ant_survey91_df['asn'] = ant_survey91_df['/24_str'].apply(lambda x: asn_dask(x))\n",
    "ant_survey91_df = ant_survey91_df[ant_survey91_df['survey_91']>=15].groupby(['asn'])['/24'].count().reset_index()"
   ]
  },
  {
   "cell_type": "code",
   "execution_count": 142,
   "id": "97ea2054",
   "metadata": {},
   "outputs": [],
   "source": [
    "\n",
    "censys_sparse_as_df['censys_sparse_perc'] = (100 * censys_sparse_as_df['sparse_/24_str'] / censys_sparse_as_df['/24_str']).astype(int)\n",
    "censys_sparse_ct_df = censys_sparse_as_df.groupby('censys_sparse_perc')[['asn']].count().reset_index()\n",
    "censys_sparse_ct_df['cumsum'] = censys_sparse_ct_df['asn'].cumsum()\n",
    "censys_sparse_ct_df['cumfrac'] = censys_sparse_ct_df['cumsum'] /censys_sparse_ct_df['cumsum'].max()\n",
    "\n",
    "censys_best_sparse_as_df['censys_sparse_perc'] = (100 * censys_best_sparse_as_df['sparse_/24_str'] / censys_best_sparse_as_df['/24_str']).astype(int)\n",
    "censys_best_sparse_ct_df = censys_best_sparse_as_df.groupby('censys_sparse_perc')[['asn']].count().reset_index()\n",
    "censys_best_sparse_ct_df['cumsum'] = censys_best_sparse_ct_df['asn'].cumsum()\n",
    "censys_best_sparse_ct_df['cumfrac'] = censys_best_sparse_ct_df['cumsum'] /censys_best_sparse_ct_df['cumsum'].max()"
   ]
  },
  {
   "cell_type": "code",
   "execution_count": 148,
   "id": "a83ec2c2",
   "metadata": {},
   "outputs": [
    {
     "data": {
      "image/png": "[encoded data removed]",
      "text/plain": [
       "<Figure size 432x432 with 1 Axes>"
      ]
     },
     "metadata": {
      "needs_background": "light"
     },
     "output_type": "display_data"
    }
   ],
   "source": [
    "fig, ax = plt.subplots(figsize=(6,6))\n",
    "ax = censys_sparse_ct_df.plot(x='censys_sparse_perc', y='cumfrac', ax =ax, lw=2, c=COLORS[0], grid=True)\n",
    "ax = censys_best_sparse_ct_df.plot(x='censys_sparse_perc', y='cumfrac', ax =ax, lw=2, c=COLORS[1], grid=True)\n",
    "\n",
    "ax.legend(['Censys-any', 'Censys-best'], fontsize=20, loc='lower right')\n",
    "\n",
    "ax.set_ylabel('Fraction of ASNs', fontsize=25)\n",
    "ax.set_xlabel('% of non-sparse blocks', fontsize=25)\n",
    "#ax.set_ylim([10, 1e5])\n",
    "#ax.set_yscale('log')\n",
    "ax.tick_params(axis='both', which='major', labelsize=25, rotation=0)\n",
    "plt.savefig('figs_pam/censys_blocks_non_sparse_new.pdf', bbox_inches='tight')"
   ]
  },
  {
   "cell_type": "code",
   "execution_count": null,
   "id": "67b82cb0",
   "metadata": {},
   "outputs": [],
   "source": [
    "## Number of protocol probes per /24 block"
   ]
  },
  {
   "cell_type": "code",
   "execution_count": 7,
   "id": "2b6c73e8",
   "metadata": {},
   "outputs": [],
   "source": [
    "proto_ct_all_ddf = dd.read_parquet('/data1/manasvini/censys/proto/best_proto', block_size='10MB')"
   ]
  },
  {
   "cell_type": "code",
   "execution_count": 9,
   "id": "4afe8a52",
   "metadata": {},
   "outputs": [],
   "source": [
    "proto_ct_all_ddf['/24'] = proto_ct_all_ddf.map_partitions(get_24_from_int)"
   ]
  },
  {
   "cell_type": "code",
   "execution_count": 10,
   "id": "356b2930",
   "metadata": {},
   "outputs": [],
   "source": [
    "proto_24_df = proto_ct_all_ddf.groupby(['/24', 'best_proto'])['ipint'].count().compute().reset_index()"
   ]
  },
  {
   "cell_type": "code",
   "execution_count": 17,
   "id": "357aa84c",
   "metadata": {},
   "outputs": [],
   "source": [
    "best_proto_ct_df = proto_24_df.groupby('/24')['best_proto'].count().reset_index()"
   ]
  },
  {
   "cell_type": "code",
   "execution_count": 73,
   "id": "7691f848",
   "metadata": {},
   "outputs": [
    {
     "data": {
      "image/png": "[encoded data removed]",
      "text/plain": [
       "<Figure size 432x288 with 1 Axes>"
      ]
     },
     "metadata": {
      "needs_background": "light"
     },
     "output_type": "display_data"
    }
   ],
   "source": [
    "fig, ax = plt.subplots(figsize=(6,4))\n",
    "best_proto_ct_df.groupby('best_proto').count().plot.bar(ax=ax, grid=True, legend=False, color=COLORS[0])\n",
    "ax.set_xlabel('# of protocols', fontsize=20)\n",
    "ax.set_ylabel('# of /24s', fontsize=20)\n",
    "ax.tick_params(axis='both', which='major', labelsize=20, rotation=0)\n",
    "plt.savefig('figs_pam/censys_proto_24.pdf', bbox_inches='tight')\n",
    "plt.savefig('figs_pam/censys_proto_24.png', bbox_inches='tight')\n"
   ]
  },
  {
   "cell_type": "code",
   "execution_count": 75,
   "id": "53d5f0b3",
   "metadata": {},
   "outputs": [],
   "source": [
    "proto_24_df['/24_str'] = proto_24_df['/24'].apply(lambda x: int2ip24(x))\n",
    "proto_24_df['asn'] = proto_24_df['/24_str'].astype(str).apply(lambda x:asn_dask(x))"
   ]
  },
  {
   "cell_type": "code",
   "execution_count": 82,
   "id": "ebad0db4",
   "metadata": {},
   "outputs": [],
   "source": [
    "single_proto_ases = as_proto_df[as_proto_df['best_proto']==1]['asn'].tolist()"
   ]
  },
  {
   "cell_type": "code",
   "execution_count": 76,
   "id": "08d792b8",
   "metadata": {},
   "outputs": [],
   "source": [
    "as_proto_df = proto_24_df.groupby('asn')['best_proto'].nunique().reset_index()\n",
    "asn_cdf = as_proto_df[as_proto_df['asn']!=''].groupby('best_proto')['asn'].count().reset_index()"
   ]
  },
  {
   "cell_type": "code",
   "execution_count": 77,
   "id": "812552a0",
   "metadata": {},
   "outputs": [
    {
     "data": {
      "image/png": "[encoded data removed]",
      "text/plain": [
       "<Figure size 504x288 with 1 Axes>"
      ]
     },
     "metadata": {
      "needs_background": "light"
     },
     "output_type": "display_data"
    }
   ],
   "source": [
    "\n",
    "fig, ax = plt.subplots(figsize=(7,4))\n",
    "asn_cdf.plot.bar(x='best_proto', y='asn', ax=ax, color=COLORS[0], grid=True, legend=False)\n",
    "ax.set_xlabel('Protocol', fontsize=20)\n",
    "ax.set_ylabel('# of /24s', fontsize=20)\n",
    "ax.tick_params(axis='both', which='major', labelsize=20, rotation=0)\n",
    "plt.savefig('figs_pam/censys_proto_asn.pdf', bbox_inches='tight')\n",
    "plt.savefig('figs_pam/censys_proto_asn.png', bbox_inches='tight')"
   ]
  },
  {
   "cell_type": "code",
   "execution_count": null,
   "id": "7be161a0",
   "metadata": {},
   "outputs": [],
   "source": []
  }
 ],
 "metadata": {
  "kernelspec": {
   "display_name": "Python 3",
   "language": "python",
   "name": "python3"
  },
  "language_info": {
   "codemirror_mode": {
    "name": "ipython",
    "version": 3
   },
   "file_extension": ".py",
   "mimetype": "text/x-python",
   "name": "python",
   "nbconvert_exporter": "python",
   "pygments_lexer": "ipython3",
   "version": "3.6.9"
  }
 },
 "nbformat": 4,
 "nbformat_minor": 5
}
