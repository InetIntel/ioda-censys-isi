{
 "cells": [
  {
   "cell_type": "code",
   "execution_count": 1,
   "id": "e6b96fba",
   "metadata": {},
   "outputs": [],
   "source": [
    "import geopandas as gpd\n",
    "import pandas as pd\n",
    "import os\n",
    "import matplotlib.pyplot as plt\n",
    "plt.rcParams[\"font.family\"] = \"Serif\"\n",
    "import pyipmeta as ipm\n",
    "import requests\n",
    "import wget\n",
    "import shutil\n",
    "import gzip\n",
    "import json\n",
    "\n",
    "from sklearn.linear_model import LinearRegression\n",
    "import numpy as np\n",
    "\n",
    "import geoplot.crs as gcrs\n",
    "import geoplot\n",
    "import os\n",
    "from datetime import datetime\n",
    "import socket \n",
    "import sys\n",
    "import netaddr"
   ]
  },
  {
   "cell_type": "code",
   "execution_count": 2,
   "id": "5e205fd0",
   "metadata": {},
   "outputs": [],
   "source": [
    "\n",
    "\n",
    "import dask.dataframe as dd\n",
    "import matplotlib.pyplot as plt\n",
    "import matplotlib.dates as mdates\n",
    "import pandas as pd\n",
    "import json\n",
    "from dask.distributed import Client, LocalCluster\n"
   ]
  },
  {
   "cell_type": "code",
   "execution_count": 3,
   "id": "415e68e0",
   "metadata": {},
   "outputs": [
    {
     "data": {
      "text/plain": [
       "'http://127.0.0.1:37581/status'"
      ]
     },
     "execution_count": 3,
     "metadata": {},
     "output_type": "execute_result"
    }
   ],
   "source": [
    "cluster = LocalCluster(n_workers=4, threads_per_worker=2, dashboard_address=':37581')  # Launches a scheduler and workers locally\n",
    "client = Client(cluster) \n",
    "cluster.dashboard_link"
   ]
  },
  {
   "cell_type": "code",
   "execution_count": 4,
   "id": "691c102e",
   "metadata": {},
   "outputs": [],
   "source": [
    "def get_files_no_pfx(dirname):\n",
    "    \n",
    "    files = [os.path.join(dirname, f) for f in os.listdir(dirname)]\n",
    "    return files\n",
    "def get_dirs(dirname):\n",
    "    dirs = [os.path.join(dirname, f) for f in os.listdir(dirname) if os.path.isdir(os.path.join(dirname, f))]\n",
    "    return dirs\n",
    "def get_files(dirname, pfx):\n",
    "    files = [os.path.join(dirname, f) for f in os.listdir(dirname) if os.path.isfile(os.path.join(dirname, f)) and pfx in f]\n",
    "    return files"
   ]
  },
  {
   "cell_type": "code",
   "execution_count": 5,
   "id": "59f45048",
   "metadata": {},
   "outputs": [],
   "source": [
    "def int2ip24(x):\n",
    "    ip =  str(netaddr.IPAddress(int(x)))\n",
    "    return '.'.join(ip.split('.')[0:3]) + '.0'\n",
    "\n",
    "def get_24_from_int(df):\n",
    "    return df['ipint'].apply(lambda x: ip2int(int2ip24(x)))\n",
    "\n",
    "def get_24(df):\n",
    "    return df['ip'].apply(lambda x: '.'.join(x.split('.')[0:3]) + '.0')\n",
    "\n",
    "def ip2int(x):\n",
    "    return netaddr.IPAddress(x).value\n",
    "\n",
    "def get_int_from_ip(df):\n",
    "    return df['ip'].apply(lambda x: ip2int(x))"
   ]
  },
  {
   "cell_type": "markdown",
   "id": "92275d27",
   "metadata": {},
   "source": [
    "## Load ANT"
   ]
  },
  {
   "cell_type": "code",
   "execution_count": 18,
   "id": "194859b4",
   "metadata": {},
   "outputs": [],
   "source": [
    "dirname = '/data1/manasvini/internet_address_history_it101w-20221101/last10withipint'\n",
    "\n",
    "files = list(set(get_files_no_pfx(dirname)))\n",
    "\n",
    "ant_df = dd.read_parquet(get_files(dirname, 'parquet'), blocksize='200MB')\n"
   ]
  },
  {
   "cell_type": "markdown",
   "id": "f7438519",
   "metadata": {},
   "source": [
    "## Compute ever-alive IPs (set of IPs that responded in the last 9 surveys)"
   ]
  },
  {
   "cell_type": "code",
   "execution_count": 21,
   "id": "562c3f9a",
   "metadata": {},
   "outputs": [],
   "source": [
    "for s in range(81,92):\n",
    "    ant_df['survey_'+str(s)] = ant_df['survey_'+str(s)].astype(int)"
   ]
  },
  {
   "cell_type": "code",
   "execution_count": 23,
   "id": "436f3693",
   "metadata": {},
   "outputs": [],
   "source": [
    "ant_filtered_df = ant_df[(ant_df['survey_83']==1)|(ant_df['survey_84']==1)|(ant_df['survey_85']==1)|(ant_df['survey_86']==1)|\\\n",
    "                (ant_df['survey_87']==1)|(ant_df['survey_88']==1)|(ant_df['survey_89']==1)|\\\n",
    "               (ant_df['survey_90']==1)|(ant_df['survey_91']==1)]"
   ]
  },
  {
   "cell_type": "code",
   "execution_count": 27,
   "id": "4d24dd86",
   "metadata": {},
   "outputs": [],
   "source": [
    "ant_filtered_df.to_parquet('/data1/manasvini/internet_address_history_it101w-20221101/last10withipint/everalive/', compression={\"name\": \"gzip\", \"values\": \"lz4\"}, write_index=False, overwrite=True)"
   ]
  },
  {
   "cell_type": "markdown",
   "id": "51057e99",
   "metadata": {},
   "source": [
    "## Load ANT everactive"
   ]
  },
  {
   "cell_type": "code",
   "execution_count": 6,
   "id": "0c73ed2a",
   "metadata": {},
   "outputs": [],
   "source": [
    "dirname = '/data1/manasvini/internet_address_history_it101w-20221101/last10withipint/everalive'\n",
    "\n",
    "files = list(set(get_files_no_pfx(dirname)))\n",
    "\n",
    "ant_df = dd.read_parquet(get_files(dirname, 'parquet'), blocksize='200MB')\n"
   ]
  },
  {
   "cell_type": "markdown",
   "id": "1bfb1ee3",
   "metadata": {},
   "source": [
    "## Load Censys"
   ]
  },
  {
   "cell_type": "code",
   "execution_count": 8,
   "id": "104e7a5a",
   "metadata": {},
   "outputs": [
    {
     "name": "stdout",
     "output_type": "stream",
     "text": [
      "/data1/manasvini/censys_output_new/intermediate/surveywise/survey_83\n",
      "/data1/manasvini/censys_output_new/intermediate/surveywise/survey_84\n",
      "/data1/manasvini/censys_output_new/intermediate/surveywise/survey_85\n",
      "/data1/manasvini/censys_output_new/intermediate/surveywise/survey_86\n",
      "/data1/manasvini/censys_output_new/intermediate/surveywise/survey_87\n",
      "/data1/manasvini/censys_output_new/intermediate/surveywise/survey_88\n",
      "/data1/manasvini/censys_output_new/intermediate/surveywise/survey_89\n",
      "/data1/manasvini/censys_output_new/intermediate/surveywise/survey_90\n",
      "/data1/manasvini/censys_output_new/intermediate/surveywise/survey_91\n"
     ]
    }
   ],
   "source": [
    "survey_dirs = get_dirs('/data1/manasvini/censys_output_new/intermediate/surveywise')\n",
    "\n",
    "\n",
    "survey_dfs = []\n",
    " \n",
    "for d in sorted(survey_dirs):\n",
    "    files = get_files(d, 'parquet')\n",
    "    print(d)\n",
    "    if len(files) > 0 and len(survey_dfs)==0:\n",
    "        survey_dfs.append(dd.read_parquet(files, blocksize='200MB'))\n",
    "    elif len(files) > 0:\n",
    "        survey_num = d.split('_')[-1]\n",
    "        survey_dfs.append(dd.read_parquet(files, blocksize='200MB')['censys_survey_'+survey_num])\n",
    "\n",
    "censys_ddf = dd.concat(survey_dfs, axis=1, ignore_unknown_divisions=True).fillna(0)\n",
    "\n",
    "censys_ddf['/24']  =  censys_ddf.map_partitions(get_24_from_int)\n",
    "\n"
   ]
  },
  {
   "cell_type": "code",
   "execution_count": 10,
   "id": "61c24607",
   "metadata": {},
   "outputs": [],
   "source": [
    "censys_ddf.to_parquet('/data1/manasvini/censys_address_history_new/', compression='gzip', write_index=False, overwrite=True )"
   ]
  },
  {
   "cell_type": "markdown",
   "id": "c555ab3e",
   "metadata": {},
   "source": [
    "## Load Censys index"
   ]
  },
  {
   "cell_type": "code",
   "execution_count": 11,
   "id": "35969cc2",
   "metadata": {},
   "outputs": [],
   "source": [
    "files = get_files('/data1/manasvini/censys_address_history_new/', 'parquet')\n",
    "censys_ddf = dd.read_parquet(files, blocksize='200MB')"
   ]
  },
  {
   "cell_type": "code",
   "execution_count": 12,
   "id": "04d6d8a1",
   "metadata": {},
   "outputs": [
    {
     "data": {
      "text/plain": [
       "ipint               467313791\n",
       "censys_survey_83    467313791\n",
       "censys_survey_84    467313791\n",
       "censys_survey_85    467313791\n",
       "censys_survey_86    467313791\n",
       "censys_survey_87    467313791\n",
       "censys_survey_88    467313791\n",
       "censys_survey_89    467313791\n",
       "censys_survey_90    467313791\n",
       "censys_survey_91    467313791\n",
       "/24                 467313791\n",
       "dtype: int64"
      ]
     },
     "execution_count": 12,
     "metadata": {},
     "output_type": "execute_result"
    }
   ],
   "source": [
    "censys_ddf.count().compute()"
   ]
  },
  {
   "cell_type": "markdown",
   "id": "e62d1428",
   "metadata": {},
   "source": [
    "## Merge indices"
   ]
  },
  {
   "cell_type": "code",
   "execution_count": 13,
   "id": "c8c5105a",
   "metadata": {},
   "outputs": [],
   "source": [
    "\n",
    "def merge_dfs(dfs):\n",
    "    print(dfs[0].columns)\n",
    "    return dd.concat(dfs).drop_duplicates(subset='ipint')"
   ]
  },
  {
   "cell_type": "code",
   "execution_count": 14,
   "id": "525288b3",
   "metadata": {},
   "outputs": [
    {
     "name": "stdout",
     "output_type": "stream",
     "text": [
      "0\n",
      "Index(['ipint'], dtype='object')\n",
      "1\n",
      "Index(['ipint'], dtype='object')\n",
      "2\n",
      "Index(['ipint'], dtype='object')\n",
      "3\n",
      "Index(['ipint'], dtype='object')\n",
      "4\n",
      "Index(['ipint'], dtype='object')\n",
      "5\n",
      "Index(['ipint'], dtype='object')\n",
      "6\n",
      "Index(['ipint'], dtype='object')\n",
      "7\n",
      "Index(['ipint'], dtype='object')\n",
      "8\n",
      "Index(['ipint'], dtype='object')\n",
      "9\n",
      "Index(['ipint'], dtype='object')\n"
     ]
    }
   ],
   "source": [
    "for p in range(10):\n",
    "    print(p)\n",
    "    os.makedirs('/data1/manasvini/censys_output_new/intermediate_censys_ant/ipints_'+ str(p), exist_ok=True)\n",
    "    filtered_ant_df = ant_df[ant_df['ipint'].astype(int)%10 == p]['ipint'].astype(int).to_frame()\n",
    "    filtered_censys_df = censys_ddf[censys_ddf['ipint'].astype(int)%10 == p]['ipint'].astype(int).to_frame()\n",
    "    #total1 = filtered_ant_df.count().compute()\n",
    "    #total2 = filtered_censys_df.count().compute()\n",
    "    #total = total1 + total2\n",
    "    merged_ddf = merge_dfs([filtered_censys_df, filtered_ant_df])\n",
    "    merged_ddf = merged_ddf.dropna()\n",
    "    merged_ddf['ipint'] = merged_ddf['ipint'].astype(int)\n",
    "    #print('merged', p, 'before', 'censys=', total2, 'ant=', total1, 'overall=', total, 'after', merged_ddf.count().compute())\n",
    "\n",
    "    merged_ddf.to_parquet('/data1/manasvini/censys_output_new/intermediate_censys_ant/ipints_'+str(p), write_index=False, overwrite=True, compression={\"name\": \"gzip\", \"values\": \"lz4\"},)\n",
    "    del merged_ddf"
   ]
  },
  {
   "cell_type": "markdown",
   "id": "b7c6e0a2",
   "metadata": {},
   "source": [
    "## Load merged index  \n",
    "In the previous steps, we create a survey-wise response table for ANT and Censys separately. We next merge the two so that we can look at the combined responses. Due to memory constraints, we have to do it in a roundabout way: I group IP addresses % 10 for each survey and do the merging per group and then concatenate everything together. Groupby/merge is expensive, but concatenate is not.   "
   ]
  },
  {
   "cell_type": "code",
   "execution_count": 16,
   "id": "a29f9166",
   "metadata": {},
   "outputs": [],
   "source": [
    "ipdirs = get_dirs('/data1/manasvini/censys_output_new/intermediate_censys_ant/')"
   ]
  },
  {
   "cell_type": "code",
   "execution_count": 17,
   "id": "7115cc8b",
   "metadata": {},
   "outputs": [],
   "source": [
    "ipdfs = []\n",
    "for d in ipdirs:\n",
    "    files = get_files(d, 'parquet')\n",
    "    ipdfs.append(dd.read_parquet(files, blocksize='200MB'))"
   ]
  },
  {
   "cell_type": "code",
   "execution_count": 18,
   "id": "004062f4",
   "metadata": {},
   "outputs": [],
   "source": [
    "ant_censys_ip_df = dd.concat(ipdfs)"
   ]
  },
  {
   "cell_type": "code",
   "execution_count": 23,
   "id": "c114c920",
   "metadata": {},
   "outputs": [
    {
     "name": "stdout",
     "output_type": "stream",
     "text": [
      "Index(['ipint', 'survey_83'], dtype='object')\n",
      "ipint        int64\n",
      "survey_83    int64\n",
      "dtype: object\n",
      "Index(['ipint', 'survey_83'], dtype='object')\n",
      "ipint        int64\n",
      "survey_83    int64\n",
      "dtype: object\n",
      "Index(['ipint', 'survey_83'], dtype='object')\n",
      "ipint        int64\n",
      "survey_83    int64\n",
      "dtype: object\n",
      "Index(['ipint', 'survey_83'], dtype='object')\n",
      "ipint        int64\n",
      "survey_83    int64\n",
      "dtype: object\n",
      "Index(['ipint', 'survey_83'], dtype='object')\n",
      "ipint        int64\n",
      "survey_83    int64\n",
      "dtype: object\n",
      "Index(['ipint', 'survey_83'], dtype='object')\n",
      "ipint        int64\n",
      "survey_83    int64\n",
      "dtype: object\n",
      "Index(['ipint', 'survey_83'], dtype='object')\n",
      "ipint        int64\n",
      "survey_83    int64\n",
      "dtype: object\n",
      "Index(['ipint', 'survey_83'], dtype='object')\n",
      "ipint        int64\n",
      "survey_83    int64\n",
      "dtype: object\n",
      "Index(['ipint', 'survey_83'], dtype='object')\n",
      "ipint        int64\n",
      "survey_83    int64\n",
      "dtype: object\n",
      "Index(['ipint', 'survey_83'], dtype='object')\n",
      "ipint        int64\n",
      "survey_83    int64\n",
      "dtype: object\n"
     ]
    }
   ],
   "source": [
    "for surveynum in range(83, 92):\n",
    "    for p in range(10):\n",
    "    \n",
    "        surveystr = str(surveynum)\n",
    "#         if surveynum == 84:\n",
    "#             continue\n",
    "        filtered_censys_ddf = censys_ddf[censys_ddf['ipint']%10==p]\n",
    "        filtered_ant_censys_df =ant_censys_ip_df[ant_censys_ip_df['ipint']%10==p]\n",
    "        filtered_ant_df = ant_df[ant_df['ipint']% 10 == p]\n",
    "        \n",
    "        filtered_ant_censys_df['survey_'+ surveystr] = int(0)\n",
    "        filtered_censys_ddf['survey_'+ surveystr] = filtered_censys_ddf['censys_survey_'+surveystr].astype(int)\n",
    "        filtered_ant_df['survey_'+surveystr] = filtered_ant_df['survey_'+surveystr].astype(int)\n",
    "        #print(filtered_censys_ddf.columns, filtered_ant_ddf.columns)\n",
    "        #print(filtered_ant_censys_ddf.count().compute())\n",
    "        merged_df = dd.concat([filtered_ant_censys_df, \\\n",
    "                               filtered_censys_ddf[['ipint', 'survey_'+surveystr]],\\\n",
    "                               filtered_ant_df[['ipint', 'survey_'+surveystr]]])\\\n",
    "                    .groupby('ipint')['survey_'+surveystr].max().reset_index()\n",
    "\n",
    "        print(merged_df.columns)\n",
    "        print(merged_df.dtypes)\n",
    "        os.makedirs('/data1/manasvini/ant_censys_merged_new/ant_censys_merged_'+str(p) + '/' + 'survey_' + surveystr, exist_ok=True)\n",
    "        merged_df.to_parquet('/data1/manasvini/ant_censys_merged_new/ant_censys_merged_'+str(p) + '/' + 'survey_' + surveystr, write_index=False, overwrite=True, compression={\"name\": \"gzip\", \"values\": \"lz4\"},)\n",
    "    "
   ]
  },
  {
   "cell_type": "markdown",
   "id": "b8caa600",
   "metadata": {},
   "source": [
    "## Update ANT IP index with all IPs  \n",
    "We want to make sure that the set of IPs we use for ANT and ANT + Censys are the same so we update the ANT dataset with the full set of IPs from the previous step"
   ]
  },
  {
   "cell_type": "code",
   "execution_count": 24,
   "id": "38a5a1b9",
   "metadata": {},
   "outputs": [
    {
     "name": "stdout",
     "output_type": "stream",
     "text": [
      "Index(['ipint', 'survey_83'], dtype='object')\n",
      "ipint        int64\n",
      "survey_83    int64\n",
      "dtype: object\n",
      "Index(['ipint', 'survey_83'], dtype='object')\n",
      "ipint        int64\n",
      "survey_83    int64\n",
      "dtype: object\n",
      "Index(['ipint', 'survey_83'], dtype='object')\n",
      "ipint        int64\n",
      "survey_83    int64\n",
      "dtype: object\n",
      "Index(['ipint', 'survey_83'], dtype='object')\n",
      "ipint        int64\n",
      "survey_83    int64\n",
      "dtype: object\n",
      "Index(['ipint', 'survey_83'], dtype='object')\n",
      "ipint        int64\n",
      "survey_83    int64\n",
      "dtype: object\n",
      "Index(['ipint', 'survey_83'], dtype='object')\n",
      "ipint        int64\n",
      "survey_83    int64\n",
      "dtype: object\n",
      "Index(['ipint', 'survey_83'], dtype='object')\n",
      "ipint        int64\n",
      "survey_83    int64\n",
      "dtype: object\n",
      "Index(['ipint', 'survey_83'], dtype='object')\n",
      "ipint        int64\n",
      "survey_83    int64\n",
      "dtype: object\n",
      "Index(['ipint', 'survey_83'], dtype='object')\n",
      "ipint        int64\n",
      "survey_83    int64\n",
      "dtype: object\n",
      "Index(['ipint', 'survey_83'], dtype='object')\n",
      "ipint        int64\n",
      "survey_83    int64\n",
      "dtype: object\n"
     ]
    }
   ],
   "source": [
    "for p in range(10):\n",
    "    for surveynum in range(83, 92):\n",
    "        surveystr = str(surveynum)\n",
    "#         if surveynum == 84:\n",
    "#             continue\n",
    "        #filtered_censys_ddf = censys_ddf[censys_ddf['ipint']%10==0]\n",
    "        filtered_ant_censys_df =ant_censys_ip_df[ant_censys_ip_df['ipint']%10==p]\n",
    "        filtered_ant_df = ant_df[ant_df['ipint']% 10 == p]\n",
    "        \n",
    "        filtered_ant_censys_df['survey_'+ surveystr] = int(0)\n",
    "        #filtered_censys_ddf['survey_'+ surveystr] = filtered_censys_ddf['censys_survey_'+surveystr].astype(int)\n",
    "        filtered_ant_df['survey_'+surveystr] = filtered_ant_df['survey_'+surveystr].astype(int)\n",
    "        \n",
    "        merged_df = dd.concat([filtered_ant_censys_df, \\\n",
    "                               #filtered_censys_ddf[['ipint', 'survey_'+surveystr]],\\\n",
    "                               filtered_ant_df[['ipint', 'survey_'+surveystr]]])\\\n",
    "                    .groupby('ipint')['survey_'+surveystr].max().reset_index()\n",
    "\n",
    "        print(merged_df.columns)\n",
    "        print(merged_df.dtypes)\n",
    "        os.makedirs('/data1/manasvini/ant_merged_new/ant_merged_'+str(p) + '/' + 'survey_' + surveystr, exist_ok=True)\n",
    "        merged_df.to_parquet('/data1/manasvini/ant_merged_new/ant_merged_'+str(p) + '/' + 'survey_' + surveystr, write_index=False, overwrite=True, compression={\"name\": \"gzip\", \"values\": \"lz4\"},)\n",
    "        break"
   ]
  },
  {
   "cell_type": "code",
   "execution_count": null,
   "id": "3904bfed",
   "metadata": {},
   "outputs": [],
   "source": []
  }
 ],
 "metadata": {
  "kernelspec": {
   "display_name": "Python 3",
   "language": "python",
   "name": "python3"
  },
  "language_info": {
   "codemirror_mode": {
    "name": "ipython",
    "version": 3
   },
   "file_extension": ".py",
   "mimetype": "text/x-python",
   "name": "python",
   "nbconvert_exporter": "python",
   "pygments_lexer": "ipython3",
   "version": "3.6.9"
  }
 },
 "nbformat": 4,
 "nbformat_minor": 5
}
